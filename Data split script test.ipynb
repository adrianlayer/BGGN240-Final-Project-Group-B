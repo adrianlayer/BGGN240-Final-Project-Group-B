{
 "cells": [
  {
   "cell_type": "code",
   "execution_count": 1,
   "id": "17d4f317-2630-465d-92c0-5bb636dff21b",
   "metadata": {},
   "outputs": [],
   "source": [
    "#import\n",
    "import os\n",
    "import random\n",
    "import shutil\n",
    "import numpy as np"
   ]
  },
  {
   "cell_type": "code",
   "execution_count": 2,
   "id": "7729e240-dfa3-42dd-8dbd-7f4d95c59bcd",
   "metadata": {},
   "outputs": [],
   "source": [
    "#We need to separate our images into training, testing, and validation groups\n",
    "#This can be accomplished by randomly selecting images from each patient group \n",
    "\n",
    "#Define the image splitting function\n",
    "#This takes in two directories, one with the image sources (root_dir) and \n",
    "#one where the split images are saved (output_dir)\n",
    "def split_images(root_dir, output_dir, splits=(0.7, 0.15, 0.15)):\n",
    "    categories = ['Non PD Patients', 'PD Patients']\n",
    "\n",
    "    #File Path lists\n",
    "    train_non_pd = []\n",
    "    val_non_pd = []\n",
    "    test_non_pd = []\n",
    "    train_pd = []\n",
    "    val_pd = []\n",
    "    test_pd = []\n",
    "    \n",
    "    # Set file paths\n",
    "    for category in categories:\n",
    "        category_path = os.path.join(root_dir, category)\n",
    "        output_category_path = os.path.join(output_dir, category)\n",
    "        os.makedirs(output_category_path, exist_ok=True)\n",
    "        \n",
    "        #set paths for all patient folders\n",
    "        all_images = []  #empty list to add images to \n",
    "        for patient_folder in os.listdir(category_path):\n",
    "            patient_path = os.path.join(category_path, patient_folder)\n",
    "            if os.path.isdir(patient_path):\n",
    "                mri_path = os.path.join(patient_path, '1.MRI')  # Select only MRI scans\n",
    "                if os.path.exists(mri_path):\n",
    "                    images = [os.path.join(mri_path, img) for img in os.listdir(mri_path) if img.endswith('.png')]\n",
    "                    all_images.extend(images) #add all images to the list\n",
    "\n",
    "        #shuffle images \n",
    "        random.shuffle(all_images)\n",
    "\n",
    "        #partition images\n",
    "        split1 = int(splits[0] * len(all_images))\n",
    "        split2 = split1 + int(splits[1] * len(all_images))\n",
    "\n",
    "        #assign images within each partition to training, validation, or testing\n",
    "        train_set = all_images[:split1]\n",
    "        val_set = all_images[split1:split2]\n",
    "        test_set = all_images[split2:]\n",
    "\n",
    "        #add image file paths to empty lists\n",
    "        if category == 'non PD patient':\n",
    "            train_non_pd.extend(train_set)\n",
    "            val_non_pd.extend(val_set)\n",
    "            test_non_pd.extend(test_set)\n",
    "        else:\n",
    "            train_pd.extend(train_set)\n",
    "            val_pd.extend(val_set)\n",
    "            test_pd.extend(test_set)\n",
    "        \n",
    "        #create folders for each group with corresponding immages\n",
    "        for split_name, split_data in zip(['train', 'val', 'test'], [train_set, val_set, test_set]):\n",
    "            split_path = os.path.join(output_category_path, split_name)\n",
    "            os.makedirs(split_path, exist_ok=True)\n",
    "            \n",
    "            for img_path in split_data:\n",
    "                shutil.copy(img_path, os.path.join(split_path, os.path.basename(img_path)))\n",
    "        \n",
    "        #print results to see how many samples we have for each patient type and group        \n",
    "        print(f\"{category}: {len(train_set)} training, {len(val_set)} validation, {len(test_set)} testing\")\n",
    "    \n",
    "    #Get paths     \n",
    "    return train_non_pd, val_non_pd, test_non_pd, train_pd, val_pd, test_pd\n",
    "\n",
    "\n",
    "# set paths\n",
    "root_directory = r\"C:\\Users\\sirmo\\Desktop\\BGGN240 Final project\\ntua-parkinson-dataset-master\"  # Replace with the root directory containing dataset\n",
    "output_directory = r\"C:\\Users\\sirmo\\Desktop\\BGGN240 Final project\\split_dataset\"  # Output directory for the split data\n"
   ]
  },
  {
   "cell_type": "code",
   "execution_count": 3,
   "id": "e8456093-cb0f-4db7-97ea-ea7315971b03",
   "metadata": {},
   "outputs": [
    {
     "name": "stdout",
     "output_type": "stream",
     "text": [
      "Non PD Patients: 6934 training, 1486 validation, 1487 testing\n",
      "PD Patients: 21422 training, 4590 validation, 4592 testing\n"
     ]
    }
   ],
   "source": [
    "#run function\n",
    "split_images(root_directory, output_directory) "
   ]
  },
  {
   "cell_type": "code",
   "execution_count": null,
   "id": "494b9b92-6992-425b-89c1-d19a653a9bf3",
   "metadata": {},
   "outputs": [],
   "source": []
  }
 ],
 "metadata": {
  "kernelspec": {
   "display_name": "Python [conda env:base] *",
   "language": "python",
   "name": "conda-base-py"
  },
  "language_info": {
   "codemirror_mode": {
    "name": "ipython",
    "version": 3
   },
   "file_extension": ".py",
   "mimetype": "text/x-python",
   "name": "python",
   "nbconvert_exporter": "python",
   "pygments_lexer": "ipython3",
   "version": "3.11.7"
  }
 },
 "nbformat": 4,
 "nbformat_minor": 5
}
