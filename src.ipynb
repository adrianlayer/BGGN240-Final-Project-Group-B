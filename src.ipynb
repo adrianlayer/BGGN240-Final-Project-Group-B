{
 "cells": [
  {
   "cell_type": "markdown",
   "id": "b7410778-f7b2-45f2-99bd-e73609510508",
   "metadata": {},
   "source": [
    "# scCamAge Pipeline Replication"
   ]
  },
  {
   "cell_type": "markdown",
   "id": "b8bda82b-01cc-4cf7-8318-38ff48064f61",
   "metadata": {},
   "source": [
    "The scCamAge prediction pipeline starts with raw images, proceeds through segmentation, contouring, and finally prediction. The code needed to be run in a docker anaconda environment. Unfortunately, we can't show the output of the cells, but we will annotate each part to interpret their functions."
   ]
  },
  {
   "cell_type": "code",
   "execution_count": 1,
   "id": "b67b809b-4933-44c9-af1c-3aeade7f2c0a",
   "metadata": {},
   "outputs": [],
   "source": [
    "### SETUP ###\n",
    "\n",
    "import torch\n",
    "import torch.nn as nn\n",
    "import torch.optim as optim\n",
    "from torchvision import models\n",
    "import torchvision.transforms as transforms\n",
    "from torch.utils.data import Dataset\n",
    "from torch.utils.data import DataLoader\n",
    "from torchvision.transforms.functional import to_pil_image\n",
    "from PIL import Image\n",
    "import os\n",
    "import re\n",
    "from sklearn.metrics import mean_absolute_error, mean_squared_error, r2_score\n",
    "import numpy as np\n",
    "from tqdm import tqdm\n",
    "import matplotlib.pyplot as plt\n",
    "from matplotlib import colormaps\n",
    "import PIL\n",
    "import cv2\n",
    "import torch.nn.functional as F\n",
    "import pandas as pd\n",
    "import scipy.stats as stats\n",
    "import random\n",
    "import shutil"
   ]
  },
  {
   "cell_type": "markdown",
   "id": "c52d156a-a03e-451f-ab22-10c76d7a3e97",
   "metadata": {},
   "source": [
    "## Segmentation\n",
    "\n",
    "The first script to run in the pipeline is below. It requires only an input and an output image, and outputs to a directory of the user's choosing. It functions to 'segment' each cell in the entire input frame. In essence, it will return the mask, and outline of every yeast cell that the algorithm detects."
   ]
  },
  {
   "cell_type": "code",
   "execution_count": null,
   "id": "1a032787-6a45-4292-bbd7-57bf599dd14d",
   "metadata": {},
   "outputs": [],
   "source": [
    "import opts as opt\n",
    "import os\n",
    "import shutil\n",
    "\n",
    "from mrcnn.my_inference import predict_images\n",
    "from mrcnn.preprocess_images import preprocess_images\n",
    "from mrcnn.convert_to_image import convert_to_image, convert_to_imagej\n",
    "\n",
    "if opt.output_directory != '' and not os.path.isdir(opt.output_directory):\n",
    "    os.mkdir(opt.output_directory)\n",
    "\n",
    "if os.path.isdir(opt.output_directory):\n",
    "    if len(os.listdir(opt.output_directory)) > 0:\n",
    "        print (\"ERROR: Make sure that the output directory to save masks to is empty.\")\n",
    "    else:\n",
    "        preprocessed_image_directory = opt.output_directory + \"/preprocessed_images/\"\n",
    "        preprocessed_image_list = opt.output_directory + \"/preprocessed_images_list.csv\"\n",
    "        rle_file = opt.output_directory + \"/compressed_masks.csv\"\n",
    "        output_mask_directory = opt.output_directory + \"/masks/\"\n",
    "        output_imagej_directory = opt.output_directory + \"/imagej/\"\n",
    "\n",
    "        # Preprocess the images\n",
    "        if opt.verbose:\n",
    "            print (\"\\nPreprocessing your images...\")\n",
    "        preprocess_images(opt.input_directory,\n",
    "                          preprocessed_image_directory,\n",
    "                          preprocessed_image_list,\n",
    "                          verbose = opt.verbose)\n",
    "\n",
    "        if opt.verbose:\n",
    "            print (\"\\nRunning your images through the neural network...\")\n",
    "        predict_images(preprocessed_image_directory,\n",
    "                       preprocessed_image_list,\n",
    "                       rle_file,\n",
    "                       rescale = opt.rescale,\n",
    "                       scale_factor = opt.scale_factor,\n",
    "                       verbose = opt.verbose)\n",
    "\n",
    "        if opt.save_masks == True:\n",
    "            if opt.verbose:\n",
    "                print(\"\\nSaving the masks...\")\n",
    "            \n",
    "            if opt.output_imagej == True:\n",
    "                convert_to_image(rle_file,\n",
    "                                 output_mask_directory,\n",
    "                                 preprocessed_image_list,\n",
    "                                 rescale=opt.rescale,\n",
    "                                 scale_factor=opt.scale_factor,\n",
    "                                 verbose = opt.verbose)\n",
    "                \n",
    "                convert_to_imagej(output_mask_directory,\n",
    "                                  output_imagej_directory)\n",
    "            else:\n",
    "                convert_to_image(rle_file,\n",
    "                                 output_mask_directory,\n",
    "                                 preprocessed_image_list,\n",
    "                                 rescale=opt.rescale,\n",
    "                                 scale_factor=opt.scale_factor,\n",
    "                                 verbose = opt.verbose)\n",
    "\n",
    "        os.remove(preprocessed_image_list)\n",
    "        \n",
    "        if not opt.save_preprocessed:\n",
    "            shutil.rmtree(preprocessed_image_directory)\n",
    "\n",
    "        if not opt.save_compressed:\n",
    "            os.remove(rle_file)\n",
    "\n",
    "        if not opt.save_masks:\n",
    "            shutil.rmtree(output_mask_directory)"
   ]
  },
  {
   "cell_type": "markdown",
   "id": "b26495fc-4164-4596-b918-7fe09a3b804e",
   "metadata": {},
   "source": [
    "## Contouring\n",
    "\n",
    "The next module takes in the segmented output of the last and individually crops cells to form them into the input required for the prediction/training process. The end result will be a folder (defined by the user) filled with crops of single celled images taking up the entire frame. These filepaths, and information stored about the cells such as location within the original image, will be stored in a csv."
   ]
  },
  {
   "cell_type": "code",
   "execution_count": null,
   "id": "864567a3-a49b-450e-bfe5-9f8e1c65459c",
   "metadata": {},
   "outputs": [],
   "source": [
    "def perform_contour_analysis(dir_raw, dir_mask, dir_contour, out_dir):\n",
    "    # Create output directory if it doesn't exist\n",
    "    if not os.path.exists(out_dir):\n",
    "        os.makedirs(out_dir)\n",
    "    \n",
    "    # Initialize lists to store contour properties\n",
    "    Countour_area = []\n",
    "    Arc_length = []\n",
    "    Covexity = []\n",
    "    convexhull = []\n",
    "    Name = []\n",
    "\n",
    "    # Loop over files in dir_mask\n",
    "    for file in sorted(os.listdir(dir_mask)):\n",
    "        if file.endswith(\".jpg\"):\n",
    "            print(\"Processing file:\", file)\n",
    "            # Read masked image\n",
    "            mask = cv2.imread(os.path.join(dir_mask, file))\n",
    "            mask[mask > 0] = 255  # Thresholding\n",
    "            \n",
    "            # Find contours\n",
    "            contours, _ = cv2.findContours(cv2.cvtColor(mask, cv2.COLOR_RGB2GRAY), cv2.RETR_EXTERNAL, cv2.CHAIN_APPROX_SIMPLE)\n",
    "            \n",
    "            # Loop over contours\n",
    "            for i, c in enumerate(contours):\n",
    "                if cv2.minEnclosingCircle(c)[1] >= 50 and cv2.minEnclosingCircle(c)[1] <= 1000:\n",
    "                    rect = cv2.boundingRect(c)\n",
    "                    x, y, w, h = rect\n",
    "                    if rect[2] <= 50 or rect[3] <= 50:\n",
    "                        continue\n",
    "                    if cv2.contourArea(c) >= 1000 and cv2.contourArea(c) <= 100000:\n",
    "                        if cv2.arcLength(c, True) >= 240 and cv2.arcLength(c, True) <= 20000:\n",
    "                            # Extract ROI\n",
    "                            ROI = cv2.imread(os.path.join(dir_raw, file))[y:y+h+10, x:x+w-10]\n",
    "                            \n",
    "                            # Append contour properties to lists\n",
    "                            Countour_area.append(cv2.minEnclosingCircle(c)[1])\n",
    "                            Arc_length.append(cv2.arcLength(c, True))\n",
    "                            Covexity.append(cv2.isContourConvex(c))\n",
    "                            convexhull.append(cv2.convexHull(c))\n",
    "                            Name.append(os.path.join(dir_contour, '{}_ROI_{}.png'.format(file.split('.')[0], i)))\n",
    "                            \n",
    "                            # Save ROI image\n",
    "                            cv2.imwrite(os.path.join(dir_contour, '{}_ROI_{}.png'.format(file.split('.')[0], i)), ROI)\n",
    "            \n",
    "    # Create DataFrame with contour properties\n",
    "    contour_Data = pd.DataFrame({\n",
    "        \"Countour_Area\": Countour_area,\n",
    "        \"Perimeter\": Arc_length,\n",
    "        \"Is_Convex\": Covexity,\n",
    "        \"Convexhull\": convexhull,\n",
    "        \"Name\": Name\n",
    "    })\n",
    "    \n",
    "    # Save DataFrame to CSV\n",
    "    contour_Data.to_csv(os.path.join(out_dir, 'contour_results.csv'), index=False)\n",
    "\n",
    "# Example usage\n",
    "if __name__ == \"__main__\":\n",
    "    dir_raw = \"\"  ## input directory path of raw images\n",
    "    dir_mask = \"\"  ## output directory path of segmented image/masks\n",
    "   \n",
    "    dir_contour = \"\"   ## new dir file path\n",
    "    out_dir = \"\"         ## new dir file path\n",
    "\n",
    "    perform_contour_analysis(dir_raw, dir_mask, dir_contour, out_dir)"
   ]
  },
  {
   "cell_type": "markdown",
   "id": "37e1bd5e-970b-462b-abb1-5827c2c7e51c",
   "metadata": {},
   "source": [
    "# Prediction\n",
    "\n",
    "The last module of the pipeline takes in the cropped images and returns a csv containing the predicted age of each image. The csv stores the path of each image and uses it to map to the age. The model is actually a classifier, and returns an age class from 0 to 9, signifying day 2 through 20 (2 day increment)."
   ]
  },
  {
   "cell_type": "code",
   "execution_count": 138,
   "id": "d2d81a43-a120-4c1a-badb-735e9d02020d",
   "metadata": {},
   "outputs": [],
   "source": [
    "### To load Ca,Age model\n",
    "class ImageInceptionResNetV2(nn.Module):\n",
    "    def __init__(self):\n",
    "        super(ImageInceptionResNetV2, self).__init__()\n",
    "        self.image_feature_extractor = torch.hub.load('pytorch/vision:v0.10.0', 'inception_v3', pretrained=True)\n",
    "        self.fc = nn.Sequential(\n",
    "            nn.Linear(in_features=1000, out_features=128),\n",
    "            nn.ReLU(),\n",
    "            nn.BatchNorm1d(128),\n",
    "            nn.Dropout(),\n",
    "            nn.Linear(in_features=128, out_features=10),\n",
    "            nn.Softmax(dim=1)\n",
    "        )\n",
    "\n",
    "    def forward(self, x):\n",
    "        inception_outputs = self.image_feature_extractor(x)\n",
    "        output = inception_outputs\n",
    "        output = self.fc(output)\n",
    "        return output\n",
    "\n",
    "\n",
    "### To prerocess data\n",
    "def get_preprocess_transform():\n",
    "    normalize = transforms.Normalize(mean=[0.485, 0.456, 0.406],\n",
    "                                    std=[0.229, 0.224, 0.225])     \n",
    "    transf = transforms.Compose([\n",
    "        transforms.ToTensor(),\n",
    "        normalize\n",
    "    ])    \n",
    "\n",
    "    return transf    \n",
    "\n",
    "### Batch prediction\n",
    "def batch_predict(model, images):\n",
    "    model.eval()\n",
    "    preprocess_transform = get_preprocess_transform()\n",
    "    transform2 = transforms.Compose([\n",
    "        transforms.ToTensor(),\n",
    "    ])\n",
    "    batch = torch.stack(tuple(transform2(i) for i in images), dim=0)\n",
    "    device = torch.device(\"cuda\" if torch.cuda.is_available() else \"cpu\")\n",
    "    model.to(device)\n",
    "    batch = batch.to(device)\n",
    "    logits = model(batch)\n",
    "    probs = logits#.argmax(dim=1)\n",
    "    return probs.detach().cpu().numpy()\n",
    "\n",
    "### For explanability module\n",
    "def explanation_heatmap(exp, exp_class, output_path=None):\n",
    "    dict_heatmap = dict(exp.local_exp[exp_class])\n",
    "    heatmap = np.vectorize(dict_heatmap.get)(exp.segments) \n",
    "    plt.imshow(heatmap, cmap='RdBu', vmin=-heatmap.max(), vmax=heatmap.max())\n",
    "    plt.colorbar()\n",
    "    if output_path:\n",
    "        plt.savefig(output_path)\n",
    "    else:\n",
    "        plt.show()\n",
    "\n",
    " ### Prediction_model       \n",
    "def process_image_data(input_path, output_path):\n",
    "    dirname = os.path.dirname(__file__)\n",
    "    model_path = os.path.join(dirname, 'Model/model_epoch200.pt')\n",
    "    bioactivity_model_path = os.path.join(dirname, 'Models/Bioactivity_full_trained_models/rr_TMRE_regression.sav')\n",
    "\n",
    "    with open(os.path.join(dirname, 'Models/Bioactivity_full_trained_models/rr_TMRE_regression.sav'), 'rb') as file:\n",
    "        TMRE = pickle.load(file)\n",
    "        \n",
    "    with open(os.path.join(dirname, 'Models/Bioactivity_full_trained_models/rr_H2DCFDA_regression.sav'), 'rb') as file:\n",
    "        H2DCFDA = pickle.load(file)\n",
    "\n",
    "    with open(os.path.join(dirname, 'Models/Bioactivity_full_trained_models/rr_FM4_46_regression.sav'), 'rb') as file:\n",
    "        FM4_46 = pickle.load(file)\n",
    "\n",
    "    with open(os.path.join(dirname, 'Models/Drugs_full_trained_model/rf_MG132_Classification.sav'), 'rb') as file:\n",
    "        MG132 = pickle.load(file)\n",
    "        \n",
    "    with open(os.path.join(dirname, 'Models/Drugs_full_trained_model/rf_Azacytidine_Classification.sav'), 'rb') as file:\n",
    "        Aza = pickle.load(file)\n",
    "        \n",
    "    with open(os.path.join(dirname, 'Models/Drugs_full_trained_model/rf_Etoposide_Classification.sav'), 'rb') as file:\n",
    "        Etoposide = pickle.load(file)\n",
    "\n",
    "    for i in os.listdir(input_path):\n",
    "        \n",
    "        data3 = pd.DataFrame()\n",
    "        print(i)\n",
    "        data = pd.read_csv(os.path.join(input_path, i))\n",
    "        data2 = data.drop([\"Names\"], axis=1) #name col, feat col (1-128 list) - 2 cols + 1-128 col, data2 has 128 cols\n",
    "        \n",
    "        data2_pred = TMRE.predict(data2)\n",
    "        data3[\"Prediction_TMRE_Intensity\"] = data2_pred\n",
    "        \n",
    "        data2_pred = H2DCFDA.predict(data2)\n",
    "        data3[\"Prediction_H2DCFDA_Intensity\"] = data2_pred\n",
    "        \n",
    "        data2_pred = FM4_46.predict(data2)\n",
    "        data3[\"Prediction_FM_Intensity\"] = data2_pred\n",
    "        \n",
    "        data2_pred = MG132.predict(data2)\n",
    "        data3[\"MG132\"] = data2_pred\n",
    "        \n",
    "        data2_pred = Aza.predict(data2)\n",
    "        data3[\"Azacytidine\"] = data2_pred\n",
    "        \n",
    "        data2_pred = Etoposide.predict(data2)\n",
    "        data3[\"Etoposide\"] = data2_pred    \n",
    "\n",
    "        data3[\"Names\"] = data[\"Names\"]\n",
    "        \n",
    "        item_name = \"_\".join(i.split(\"_\")[2:-1])\n",
    "\n",
    "        print(\"i:\", i)\n",
    "        print(\"item_name:\", item_name)\n",
    "        output_file = os.path.join(output_path, \"predictions_\" + item_name + i.split(\"_\")[2] + '.csv')\n",
    "        print(output_file) \n",
    "        data3.to_csv(output_file, index=False)\n",
    "\n",
    "def predict_images(input_folder, output_folder, explainability=False, num_features=3, image_features=False, ko_prediction=False):\n",
    "    # check_and_download_models()\n",
    "    model = ImageInceptionResNetV2()\n",
    "    device = torch.device(\"cuda\" if torch.cuda.is_available() else \"cpu\")\n",
    "    model.to(device)\n",
    "\n",
    "    dirname = os.path.dirname(__file__)\n",
    "    model_path = os.path.join(dirname, 'model_epoch200.pt')\n",
    "    model.load_state_dict(torch.load(model_path))\n",
    "    model.eval()\n",
    "\n",
    "    transform = transforms.Compose([\n",
    "        transforms.Resize((299, 299)),\n",
    "        transforms.ToTensor(),\n",
    "        transforms.Normalize(mean=[0.485, 0.456, 0.406], std=[0.229, 0.224, 0.225]),\n",
    "    ])\n",
    "\n",
    "    # input_folder = os.path.join(output_folder, 'Test_Images')\n",
    "    names_images = []\n",
    "    label = []\n",
    "    all_prob = []\n",
    "    test_prob = []\n",
    "    \n",
    "    for image_file in os.listdir(input_folder):\n",
    "        if image_file.endswith('.png') or image_file.endswith('.jpg'):\n",
    "            image_path = os.path.join(input_folder, image_file)\n",
    "            image = Image.open(image_path).convert(\"RGB\")\n",
    "            image = transform(image)\n",
    "            image = image.unsqueeze(0)  # Add batch dimension\n",
    "\n",
    "            # Move input tensor to GPU if available\n",
    "            device = torch.device(\"cuda\" if torch.cuda.is_available() else \"cpu\")\n",
    "            image = image.to(device)\n",
    "\n",
    "            with torch.no_grad():\n",
    "                output = model(image)\n",
    "\n",
    "            prediction = output.argmax(dim=1)\n",
    "            label.append(prediction)\n",
    "            names_images.append(image_file)\n",
    "\n",
    "            probabilities = torch.nn.functional.softmax(output, dim=1)\n",
    "            prediction = output.argmax(dim=1)\n",
    "            predicted_class = prediction.item()\n",
    "            predicted_probability = probabilities[0, predicted_class].item()\n",
    "            all_probabilities = probabilities[0].tolist()\n",
    "            test_prob.append(predicted_probability)\n",
    "            all_prob.append(all_probabilities)\n",
    "\n",
    "    print('*****************Saving Image Predictions start****************')\n",
    "    Image_predictions = pd.DataFrame()\n",
    "    Image_predictions[\"File Name\"] = names_images\n",
    "    Image_predictions[\"Label\"] = pd.DataFrame(label)\n",
    "    Image_predictions[\"Predicted_class_prob\"] = test_prob\n",
    "    Image_predictions[\"All_class_prob\"] = all_prob\n",
    "    Image_predictions.to_csv(os.path.join(output_folder, \"Test_Image_predictions.csv\"))\n",
    "    print('*****************End Saving Image Predictions start****************')"
   ]
  },
  {
   "cell_type": "markdown",
   "id": "e7a995e7-dd08-41f2-baa6-25964b2d9eec",
   "metadata": {},
   "source": [
    "Examples of the cropped cells and the format of the prediction can be seen in figure 1 of the final report."
   ]
  },
  {
   "cell_type": "markdown",
   "id": "c2ef6934-f6ad-460b-90b9-880e0fed5887",
   "metadata": {},
   "source": [
    "# MRI - Age Prediction Engine"
   ]
  },
  {
   "cell_type": "markdown",
   "id": "902cd6be-0b02-498f-a3d0-23690707cbee",
   "metadata": {},
   "source": [
    "## Preprocessing\n",
    "\n",
    "The dataset we procured was luckily already very well preprocessed. The images are aligned properly, which eliminates any positional noise that the model might interpret. The images are also already skull stripped, and artifacts have been eliminated. The only thing remaining for us to do is randomize and then split our data into training, validation, and test sets. We'll be taking our non-Demented dataset for training, as it's by far the largest (60k images):"
   ]
  },
  {
   "cell_type": "code",
   "execution_count": 21,
   "id": "9b21cb90-6544-412d-b1e4-4a4d6b651aeb",
   "metadata": {},
   "outputs": [],
   "source": [
    "def split_images(root_path, output_path, splits=(0.7, 0.15, 0.15)):\n",
    "    # storing our image names\n",
    "    train = []\n",
    "    val = []\n",
    "    test = []\n",
    "\n",
    "    # get all the image names\n",
    "    images = os.listdir(root_path)\n",
    "\n",
    "    # shuffle images\n",
    "    random.shuffle(images)\n",
    "\n",
    "    # get partition bounds\n",
    "    split1 = int(splits[0] * len(images))\n",
    "    split2 = split1 + int(splits[1] * len(images))\n",
    "\n",
    "    # assign images\n",
    "    train = images[:split1]\n",
    "    val = images[split1:split2]\n",
    "    test = images[split2:]\n",
    "\n",
    "    # copy files\n",
    "    os.makedirs(output_path, exist_ok=True)\n",
    "    for split_name, split_images in zip(['train', 'val', 'test',] ,[train, val, test]):\n",
    "        split_path = os.path.join(output_path, split_name)\n",
    "        os.makedirs(split_path, exist_ok=True)\n",
    "        for f in split_images:\n",
    "            curr_img_path = os.path.join(root_path, f)\n",
    "            output_img_path = os.path.join(split_path, f)\n",
    "            shutil.copy(curr_img_path, output_img_path)\n",
    "\n",
    "    return len(train), len(val), len(test)"
   ]
  },
  {
   "cell_type": "code",
   "execution_count": 22,
   "id": "feb7a4cf-648d-4aaf-8c34-13bdaa3e4db1",
   "metadata": {},
   "outputs": [
    {
     "data": {
      "text/plain": [
       "(44492, 9534, 9534)"
      ]
     },
     "execution_count": 22,
     "metadata": {},
     "output_type": "execute_result"
    }
   ],
   "source": [
    "root_path = '/Users/adrianlayer/BGGN240/Final Project/alzheimers_dataset/NonDemented'\n",
    "output_path = '/Users/adrianlayer/BGGN240/Final Project/alzheimers_dataset/split_data'\n",
    "\n",
    "split_images(root_path, output_path)"
   ]
  },
  {
   "cell_type": "markdown",
   "id": "b46ba558-6227-42ef-97d7-7391117974f9",
   "metadata": {},
   "source": [
    "## Architecture\n",
    "\n",
    "Before we can start training, we need to define our model and the parameters it's going to take in. We also need to design our training protocol. Before we can do that though, we need to format our input data (brain scans) and connect it to our labels (age).\n",
    "\n",
    "To start, we'll define a custom dataset class that allows us to load our data in an effective way. It also provides us with flexibility if our folder structure should need to change in any way. Luckily, the current folder structure of the non-demented alzheimer's dataset is quite simple. All the data we need is stored in one folder, and the names will map back to the ages stored in a central csv."
   ]
  },
  {
   "cell_type": "code",
   "execution_count": 2,
   "id": "45bbe8ce-5d5d-4bfc-8d74-cac56c7af687",
   "metadata": {},
   "outputs": [],
   "source": [
    "class AgeDataset(Dataset):\n",
    "    def __init__(self, root_dir, age_sheet_path, transform=None):\n",
    "        self.root_dir = root_dir\n",
    "        self.image_files = [f for f in os.listdir(root_dir) if f.endswith('.png')]\n",
    "        self.transform = transform\n",
    "        self.df = pd.read_excel(age_sheet_path)\n",
    "\n",
    "    def __len__(self):\n",
    "        return len(self.image_files)\n",
    "\n",
    "    def __getitem__(self, idx):\n",
    "        img_name = self.image_files[idx]\n",
    "        img_path = os.path.join(self.root_dir, img_name)\n",
    "\n",
    "        # get the age and store it here. The 'ID' col of our df is actually just everything before the third '_' in our filenames.\n",
    "        img_id = '_'.join(img_name.split('_')[:3])\n",
    "        img_age = df.loc[df['ID']==img_id, 'Age'].values[0]\n",
    "\n",
    "        # Load image\n",
    "        image = Image.open(img_path).convert('L')\n",
    "        if self.transform:\n",
    "            image = self.transform(image)\n",
    "\n",
    "        return image, torch.tensor(img_age, dtype=torch.float32)"
   ]
  },
  {
   "cell_type": "code",
   "execution_count": 3,
   "id": "6c0e5d63-663d-4567-804a-4b774fd43a1d",
   "metadata": {},
   "outputs": [],
   "source": [
    "# df containing age assignments\n",
    "df = pd.read_excel('/Users/adrianlayer/BGGN240/Final Project/alzheimers_dataset/oasis_cross-sectional-5708aa0a98d82080.xlsx')\n",
    "#df\n",
    "\n",
    "age_sheet_path = '/Users/adrianlayer/BGGN240/Final Project/alzheimers_dataset/oasis_cross-sectional-5708aa0a98d82080.xlsx'"
   ]
  },
  {
   "cell_type": "markdown",
   "id": "4d20247c-da7c-4578-a873-997dc4233e37",
   "metadata": {},
   "source": [
    "Now let's store all our data using a transform. The transform aptly transforms the data into an input more suited to training. It's pretty minimal here, as all we're doing is reshaping to 224x224 (which is pretty standard for our chosen model), grayscaling, and normalizing the pixel values by 0.5 mean and standard deviation.\n",
    "\n",
    "Below our transform, we're assign our train, test, and validation datasets. We're then using a DataLoader object (from pytorch) to load in our assigned data. We'll be using a batch size of 32 (due to memory considerations), and only shuffling our training dataset.\n",
    "\n",
    "Further below that, we've also loaded in the very mild demented, mild demented, and moderately demented datasets. Those won't come into play during training, but they'll be useful when assessing the generalizability of our model."
   ]
  },
  {
   "cell_type": "code",
   "execution_count": 4,
   "id": "47072a39-a56c-485e-84bf-c2d1aa9c86a0",
   "metadata": {},
   "outputs": [],
   "source": [
    "transform = transforms.Compose([\n",
    "    transforms.Grayscale(num_output_channels=1),\n",
    "    transforms.Resize((224, 224)),\n",
    "    transforms.ToTensor(),\n",
    "    transforms.Normalize(mean=[0.5], std=[0.5])\n",
    "])\n",
    "\n",
    "# Load datasets\n",
    "train_dataset = AgeDataset(root_dir='/Users/adrianlayer/BGGN240/Final Project/alzheimers_dataset/split_data/train', \n",
    "                           age_sheet_path=age_sheet_path, transform=transform)\n",
    "test_dataset = AgeDataset(root_dir='/Users/adrianlayer/BGGN240/Final Project/alzheimers_dataset/split_data/test', \n",
    "                          age_sheet_path=age_sheet_path, transform=transform)\n",
    "val_dataset = AgeDataset(root_dir='/Users/adrianlayer/BGGN240/Final Project/alzheimers_dataset/split_data/val', \n",
    "                         age_sheet_path=age_sheet_path, transform=transform)\n",
    "\n",
    "# DataLoader\n",
    "train_loader = DataLoader(train_dataset, batch_size=32, shuffle=True)\n",
    "test_loader = DataLoader(test_dataset, batch_size=32, shuffle=False)\n",
    "val_loader = DataLoader(val_dataset, batch_size=32, shuffle=False)\n",
    "\n",
    "# very mild demented\n",
    "vmd_dataset = AgeDataset(root_dir='/Users/adrianlayer/BGGN240/Final Project/alzheimers_dataset/VeryMildDemented/VeryMildDemented',\n",
    "                         age_sheet_path=age_sheet_path, transform=transform)\n",
    "vmd_loader = DataLoader(vmd_dataset, batch_size=32, shuffle=False)\n",
    "\n",
    "# mild demented\n",
    "md_dataset = AgeDataset(root_dir='/Users/adrianlayer/BGGN240/Final Project/alzheimers_dataset/MildDemented/MildDemented',\n",
    "                         age_sheet_path=age_sheet_path, transform=transform)\n",
    "md_loader = DataLoader(md_dataset, batch_size=32, shuffle=False)\n",
    "\n",
    "# moderately demented\n",
    "mod_dataset = AgeDataset(root_dir='/Users/adrianlayer/BGGN240/Final Project/alzheimers_dataset/ModerateDemented/ModerateDemented',\n",
    "                         age_sheet_path=age_sheet_path, transform=transform)\n",
    "mod_loader = DataLoader(mod_dataset, batch_size=32, shuffle=False)"
   ]
  },
  {
   "cell_type": "markdown",
   "id": "5bf16e97-e667-4dcf-94d1-3f8ee0525778",
   "metadata": {},
   "source": [
    "Right here we're just making sure that the input that will be fed to the model is of the correct format. The batch size is 32, with 1 input channel, and the image is 224x224."
   ]
  },
  {
   "cell_type": "code",
   "execution_count": 5,
   "id": "9c4cff69-d811-4730-b6a9-dff4758e6556",
   "metadata": {},
   "outputs": [
    {
     "name": "stdout",
     "output_type": "stream",
     "text": [
      "torch.Size([32, 1, 224, 224]) tensor([86., 78., 86., 78., 78., 78., 78., 86., 86., 78., 78., 86., 86., 86.,\n",
      "        86., 78., 78., 86., 78., 86., 78., 78., 86., 78., 78., 86., 86., 78.,\n",
      "        78., 86., 78., 78.])\n"
     ]
    }
   ],
   "source": [
    "# confirm filename format to extract age\n",
    "for img, age in mod_loader:\n",
    "    print(img.shape, age)\n",
    "    break"
   ]
  },
  {
   "cell_type": "markdown",
   "id": "026d58aa-ff01-4c32-89d7-4974d89c94d3",
   "metadata": {},
   "source": [
    "Now it's time to move on to choosing and morphing the model that we'll be training. We've settled on efficientnetb0 after considerable testing. Below, we can print out the unedited model and view its features for editing:"
   ]
  },
  {
   "cell_type": "code",
   "execution_count": 6,
   "id": "ee747d7c-a659-4dfa-b512-f405592bc6e8",
   "metadata": {},
   "outputs": [
    {
     "data": {
      "text/plain": [
       "EfficientNet(\n",
       "  (features): Sequential(\n",
       "    (0): Conv2dNormActivation(\n",
       "      (0): Conv2d(3, 32, kernel_size=(3, 3), stride=(2, 2), padding=(1, 1), bias=False)\n",
       "      (1): BatchNorm2d(32, eps=1e-05, momentum=0.1, affine=True, track_running_stats=True)\n",
       "      (2): SiLU(inplace=True)\n",
       "    )\n",
       "    (1): Sequential(\n",
       "      (0): MBConv(\n",
       "        (block): Sequential(\n",
       "          (0): Conv2dNormActivation(\n",
       "            (0): Conv2d(32, 32, kernel_size=(3, 3), stride=(1, 1), padding=(1, 1), groups=32, bias=False)\n",
       "            (1): BatchNorm2d(32, eps=1e-05, momentum=0.1, affine=True, track_running_stats=True)\n",
       "            (2): SiLU(inplace=True)\n",
       "          )\n",
       "          (1): SqueezeExcitation(\n",
       "            (avgpool): AdaptiveAvgPool2d(output_size=1)\n",
       "            (fc1): Conv2d(32, 8, kernel_size=(1, 1), stride=(1, 1))\n",
       "            (fc2): Conv2d(8, 32, kernel_size=(1, 1), stride=(1, 1))\n",
       "            (activation): SiLU(inplace=True)\n",
       "            (scale_activation): Sigmoid()\n",
       "          )\n",
       "          (2): Conv2dNormActivation(\n",
       "            (0): Conv2d(32, 16, kernel_size=(1, 1), stride=(1, 1), bias=False)\n",
       "            (1): BatchNorm2d(16, eps=1e-05, momentum=0.1, affine=True, track_running_stats=True)\n",
       "          )\n",
       "        )\n",
       "        (stochastic_depth): StochasticDepth(p=0.0, mode=row)\n",
       "      )\n",
       "    )\n",
       "    (2): Sequential(\n",
       "      (0): MBConv(\n",
       "        (block): Sequential(\n",
       "          (0): Conv2dNormActivation(\n",
       "            (0): Conv2d(16, 96, kernel_size=(1, 1), stride=(1, 1), bias=False)\n",
       "            (1): BatchNorm2d(96, eps=1e-05, momentum=0.1, affine=True, track_running_stats=True)\n",
       "            (2): SiLU(inplace=True)\n",
       "          )\n",
       "          (1): Conv2dNormActivation(\n",
       "            (0): Conv2d(96, 96, kernel_size=(3, 3), stride=(2, 2), padding=(1, 1), groups=96, bias=False)\n",
       "            (1): BatchNorm2d(96, eps=1e-05, momentum=0.1, affine=True, track_running_stats=True)\n",
       "            (2): SiLU(inplace=True)\n",
       "          )\n",
       "          (2): SqueezeExcitation(\n",
       "            (avgpool): AdaptiveAvgPool2d(output_size=1)\n",
       "            (fc1): Conv2d(96, 4, kernel_size=(1, 1), stride=(1, 1))\n",
       "            (fc2): Conv2d(4, 96, kernel_size=(1, 1), stride=(1, 1))\n",
       "            (activation): SiLU(inplace=True)\n",
       "            (scale_activation): Sigmoid()\n",
       "          )\n",
       "          (3): Conv2dNormActivation(\n",
       "            (0): Conv2d(96, 24, kernel_size=(1, 1), stride=(1, 1), bias=False)\n",
       "            (1): BatchNorm2d(24, eps=1e-05, momentum=0.1, affine=True, track_running_stats=True)\n",
       "          )\n",
       "        )\n",
       "        (stochastic_depth): StochasticDepth(p=0.0125, mode=row)\n",
       "      )\n",
       "      (1): MBConv(\n",
       "        (block): Sequential(\n",
       "          (0): Conv2dNormActivation(\n",
       "            (0): Conv2d(24, 144, kernel_size=(1, 1), stride=(1, 1), bias=False)\n",
       "            (1): BatchNorm2d(144, eps=1e-05, momentum=0.1, affine=True, track_running_stats=True)\n",
       "            (2): SiLU(inplace=True)\n",
       "          )\n",
       "          (1): Conv2dNormActivation(\n",
       "            (0): Conv2d(144, 144, kernel_size=(3, 3), stride=(1, 1), padding=(1, 1), groups=144, bias=False)\n",
       "            (1): BatchNorm2d(144, eps=1e-05, momentum=0.1, affine=True, track_running_stats=True)\n",
       "            (2): SiLU(inplace=True)\n",
       "          )\n",
       "          (2): SqueezeExcitation(\n",
       "            (avgpool): AdaptiveAvgPool2d(output_size=1)\n",
       "            (fc1): Conv2d(144, 6, kernel_size=(1, 1), stride=(1, 1))\n",
       "            (fc2): Conv2d(6, 144, kernel_size=(1, 1), stride=(1, 1))\n",
       "            (activation): SiLU(inplace=True)\n",
       "            (scale_activation): Sigmoid()\n",
       "          )\n",
       "          (3): Conv2dNormActivation(\n",
       "            (0): Conv2d(144, 24, kernel_size=(1, 1), stride=(1, 1), bias=False)\n",
       "            (1): BatchNorm2d(24, eps=1e-05, momentum=0.1, affine=True, track_running_stats=True)\n",
       "          )\n",
       "        )\n",
       "        (stochastic_depth): StochasticDepth(p=0.025, mode=row)\n",
       "      )\n",
       "    )\n",
       "    (3): Sequential(\n",
       "      (0): MBConv(\n",
       "        (block): Sequential(\n",
       "          (0): Conv2dNormActivation(\n",
       "            (0): Conv2d(24, 144, kernel_size=(1, 1), stride=(1, 1), bias=False)\n",
       "            (1): BatchNorm2d(144, eps=1e-05, momentum=0.1, affine=True, track_running_stats=True)\n",
       "            (2): SiLU(inplace=True)\n",
       "          )\n",
       "          (1): Conv2dNormActivation(\n",
       "            (0): Conv2d(144, 144, kernel_size=(5, 5), stride=(2, 2), padding=(2, 2), groups=144, bias=False)\n",
       "            (1): BatchNorm2d(144, eps=1e-05, momentum=0.1, affine=True, track_running_stats=True)\n",
       "            (2): SiLU(inplace=True)\n",
       "          )\n",
       "          (2): SqueezeExcitation(\n",
       "            (avgpool): AdaptiveAvgPool2d(output_size=1)\n",
       "            (fc1): Conv2d(144, 6, kernel_size=(1, 1), stride=(1, 1))\n",
       "            (fc2): Conv2d(6, 144, kernel_size=(1, 1), stride=(1, 1))\n",
       "            (activation): SiLU(inplace=True)\n",
       "            (scale_activation): Sigmoid()\n",
       "          )\n",
       "          (3): Conv2dNormActivation(\n",
       "            (0): Conv2d(144, 40, kernel_size=(1, 1), stride=(1, 1), bias=False)\n",
       "            (1): BatchNorm2d(40, eps=1e-05, momentum=0.1, affine=True, track_running_stats=True)\n",
       "          )\n",
       "        )\n",
       "        (stochastic_depth): StochasticDepth(p=0.037500000000000006, mode=row)\n",
       "      )\n",
       "      (1): MBConv(\n",
       "        (block): Sequential(\n",
       "          (0): Conv2dNormActivation(\n",
       "            (0): Conv2d(40, 240, kernel_size=(1, 1), stride=(1, 1), bias=False)\n",
       "            (1): BatchNorm2d(240, eps=1e-05, momentum=0.1, affine=True, track_running_stats=True)\n",
       "            (2): SiLU(inplace=True)\n",
       "          )\n",
       "          (1): Conv2dNormActivation(\n",
       "            (0): Conv2d(240, 240, kernel_size=(5, 5), stride=(1, 1), padding=(2, 2), groups=240, bias=False)\n",
       "            (1): BatchNorm2d(240, eps=1e-05, momentum=0.1, affine=True, track_running_stats=True)\n",
       "            (2): SiLU(inplace=True)\n",
       "          )\n",
       "          (2): SqueezeExcitation(\n",
       "            (avgpool): AdaptiveAvgPool2d(output_size=1)\n",
       "            (fc1): Conv2d(240, 10, kernel_size=(1, 1), stride=(1, 1))\n",
       "            (fc2): Conv2d(10, 240, kernel_size=(1, 1), stride=(1, 1))\n",
       "            (activation): SiLU(inplace=True)\n",
       "            (scale_activation): Sigmoid()\n",
       "          )\n",
       "          (3): Conv2dNormActivation(\n",
       "            (0): Conv2d(240, 40, kernel_size=(1, 1), stride=(1, 1), bias=False)\n",
       "            (1): BatchNorm2d(40, eps=1e-05, momentum=0.1, affine=True, track_running_stats=True)\n",
       "          )\n",
       "        )\n",
       "        (stochastic_depth): StochasticDepth(p=0.05, mode=row)\n",
       "      )\n",
       "    )\n",
       "    (4): Sequential(\n",
       "      (0): MBConv(\n",
       "        (block): Sequential(\n",
       "          (0): Conv2dNormActivation(\n",
       "            (0): Conv2d(40, 240, kernel_size=(1, 1), stride=(1, 1), bias=False)\n",
       "            (1): BatchNorm2d(240, eps=1e-05, momentum=0.1, affine=True, track_running_stats=True)\n",
       "            (2): SiLU(inplace=True)\n",
       "          )\n",
       "          (1): Conv2dNormActivation(\n",
       "            (0): Conv2d(240, 240, kernel_size=(3, 3), stride=(2, 2), padding=(1, 1), groups=240, bias=False)\n",
       "            (1): BatchNorm2d(240, eps=1e-05, momentum=0.1, affine=True, track_running_stats=True)\n",
       "            (2): SiLU(inplace=True)\n",
       "          )\n",
       "          (2): SqueezeExcitation(\n",
       "            (avgpool): AdaptiveAvgPool2d(output_size=1)\n",
       "            (fc1): Conv2d(240, 10, kernel_size=(1, 1), stride=(1, 1))\n",
       "            (fc2): Conv2d(10, 240, kernel_size=(1, 1), stride=(1, 1))\n",
       "            (activation): SiLU(inplace=True)\n",
       "            (scale_activation): Sigmoid()\n",
       "          )\n",
       "          (3): Conv2dNormActivation(\n",
       "            (0): Conv2d(240, 80, kernel_size=(1, 1), stride=(1, 1), bias=False)\n",
       "            (1): BatchNorm2d(80, eps=1e-05, momentum=0.1, affine=True, track_running_stats=True)\n",
       "          )\n",
       "        )\n",
       "        (stochastic_depth): StochasticDepth(p=0.0625, mode=row)\n",
       "      )\n",
       "      (1): MBConv(\n",
       "        (block): Sequential(\n",
       "          (0): Conv2dNormActivation(\n",
       "            (0): Conv2d(80, 480, kernel_size=(1, 1), stride=(1, 1), bias=False)\n",
       "            (1): BatchNorm2d(480, eps=1e-05, momentum=0.1, affine=True, track_running_stats=True)\n",
       "            (2): SiLU(inplace=True)\n",
       "          )\n",
       "          (1): Conv2dNormActivation(\n",
       "            (0): Conv2d(480, 480, kernel_size=(3, 3), stride=(1, 1), padding=(1, 1), groups=480, bias=False)\n",
       "            (1): BatchNorm2d(480, eps=1e-05, momentum=0.1, affine=True, track_running_stats=True)\n",
       "            (2): SiLU(inplace=True)\n",
       "          )\n",
       "          (2): SqueezeExcitation(\n",
       "            (avgpool): AdaptiveAvgPool2d(output_size=1)\n",
       "            (fc1): Conv2d(480, 20, kernel_size=(1, 1), stride=(1, 1))\n",
       "            (fc2): Conv2d(20, 480, kernel_size=(1, 1), stride=(1, 1))\n",
       "            (activation): SiLU(inplace=True)\n",
       "            (scale_activation): Sigmoid()\n",
       "          )\n",
       "          (3): Conv2dNormActivation(\n",
       "            (0): Conv2d(480, 80, kernel_size=(1, 1), stride=(1, 1), bias=False)\n",
       "            (1): BatchNorm2d(80, eps=1e-05, momentum=0.1, affine=True, track_running_stats=True)\n",
       "          )\n",
       "        )\n",
       "        (stochastic_depth): StochasticDepth(p=0.07500000000000001, mode=row)\n",
       "      )\n",
       "      (2): MBConv(\n",
       "        (block): Sequential(\n",
       "          (0): Conv2dNormActivation(\n",
       "            (0): Conv2d(80, 480, kernel_size=(1, 1), stride=(1, 1), bias=False)\n",
       "            (1): BatchNorm2d(480, eps=1e-05, momentum=0.1, affine=True, track_running_stats=True)\n",
       "            (2): SiLU(inplace=True)\n",
       "          )\n",
       "          (1): Conv2dNormActivation(\n",
       "            (0): Conv2d(480, 480, kernel_size=(3, 3), stride=(1, 1), padding=(1, 1), groups=480, bias=False)\n",
       "            (1): BatchNorm2d(480, eps=1e-05, momentum=0.1, affine=True, track_running_stats=True)\n",
       "            (2): SiLU(inplace=True)\n",
       "          )\n",
       "          (2): SqueezeExcitation(\n",
       "            (avgpool): AdaptiveAvgPool2d(output_size=1)\n",
       "            (fc1): Conv2d(480, 20, kernel_size=(1, 1), stride=(1, 1))\n",
       "            (fc2): Conv2d(20, 480, kernel_size=(1, 1), stride=(1, 1))\n",
       "            (activation): SiLU(inplace=True)\n",
       "            (scale_activation): Sigmoid()\n",
       "          )\n",
       "          (3): Conv2dNormActivation(\n",
       "            (0): Conv2d(480, 80, kernel_size=(1, 1), stride=(1, 1), bias=False)\n",
       "            (1): BatchNorm2d(80, eps=1e-05, momentum=0.1, affine=True, track_running_stats=True)\n",
       "          )\n",
       "        )\n",
       "        (stochastic_depth): StochasticDepth(p=0.08750000000000001, mode=row)\n",
       "      )\n",
       "    )\n",
       "    (5): Sequential(\n",
       "      (0): MBConv(\n",
       "        (block): Sequential(\n",
       "          (0): Conv2dNormActivation(\n",
       "            (0): Conv2d(80, 480, kernel_size=(1, 1), stride=(1, 1), bias=False)\n",
       "            (1): BatchNorm2d(480, eps=1e-05, momentum=0.1, affine=True, track_running_stats=True)\n",
       "            (2): SiLU(inplace=True)\n",
       "          )\n",
       "          (1): Conv2dNormActivation(\n",
       "            (0): Conv2d(480, 480, kernel_size=(5, 5), stride=(1, 1), padding=(2, 2), groups=480, bias=False)\n",
       "            (1): BatchNorm2d(480, eps=1e-05, momentum=0.1, affine=True, track_running_stats=True)\n",
       "            (2): SiLU(inplace=True)\n",
       "          )\n",
       "          (2): SqueezeExcitation(\n",
       "            (avgpool): AdaptiveAvgPool2d(output_size=1)\n",
       "            (fc1): Conv2d(480, 20, kernel_size=(1, 1), stride=(1, 1))\n",
       "            (fc2): Conv2d(20, 480, kernel_size=(1, 1), stride=(1, 1))\n",
       "            (activation): SiLU(inplace=True)\n",
       "            (scale_activation): Sigmoid()\n",
       "          )\n",
       "          (3): Conv2dNormActivation(\n",
       "            (0): Conv2d(480, 112, kernel_size=(1, 1), stride=(1, 1), bias=False)\n",
       "            (1): BatchNorm2d(112, eps=1e-05, momentum=0.1, affine=True, track_running_stats=True)\n",
       "          )\n",
       "        )\n",
       "        (stochastic_depth): StochasticDepth(p=0.1, mode=row)\n",
       "      )\n",
       "      (1): MBConv(\n",
       "        (block): Sequential(\n",
       "          (0): Conv2dNormActivation(\n",
       "            (0): Conv2d(112, 672, kernel_size=(1, 1), stride=(1, 1), bias=False)\n",
       "            (1): BatchNorm2d(672, eps=1e-05, momentum=0.1, affine=True, track_running_stats=True)\n",
       "            (2): SiLU(inplace=True)\n",
       "          )\n",
       "          (1): Conv2dNormActivation(\n",
       "            (0): Conv2d(672, 672, kernel_size=(5, 5), stride=(1, 1), padding=(2, 2), groups=672, bias=False)\n",
       "            (1): BatchNorm2d(672, eps=1e-05, momentum=0.1, affine=True, track_running_stats=True)\n",
       "            (2): SiLU(inplace=True)\n",
       "          )\n",
       "          (2): SqueezeExcitation(\n",
       "            (avgpool): AdaptiveAvgPool2d(output_size=1)\n",
       "            (fc1): Conv2d(672, 28, kernel_size=(1, 1), stride=(1, 1))\n",
       "            (fc2): Conv2d(28, 672, kernel_size=(1, 1), stride=(1, 1))\n",
       "            (activation): SiLU(inplace=True)\n",
       "            (scale_activation): Sigmoid()\n",
       "          )\n",
       "          (3): Conv2dNormActivation(\n",
       "            (0): Conv2d(672, 112, kernel_size=(1, 1), stride=(1, 1), bias=False)\n",
       "            (1): BatchNorm2d(112, eps=1e-05, momentum=0.1, affine=True, track_running_stats=True)\n",
       "          )\n",
       "        )\n",
       "        (stochastic_depth): StochasticDepth(p=0.1125, mode=row)\n",
       "      )\n",
       "      (2): MBConv(\n",
       "        (block): Sequential(\n",
       "          (0): Conv2dNormActivation(\n",
       "            (0): Conv2d(112, 672, kernel_size=(1, 1), stride=(1, 1), bias=False)\n",
       "            (1): BatchNorm2d(672, eps=1e-05, momentum=0.1, affine=True, track_running_stats=True)\n",
       "            (2): SiLU(inplace=True)\n",
       "          )\n",
       "          (1): Conv2dNormActivation(\n",
       "            (0): Conv2d(672, 672, kernel_size=(5, 5), stride=(1, 1), padding=(2, 2), groups=672, bias=False)\n",
       "            (1): BatchNorm2d(672, eps=1e-05, momentum=0.1, affine=True, track_running_stats=True)\n",
       "            (2): SiLU(inplace=True)\n",
       "          )\n",
       "          (2): SqueezeExcitation(\n",
       "            (avgpool): AdaptiveAvgPool2d(output_size=1)\n",
       "            (fc1): Conv2d(672, 28, kernel_size=(1, 1), stride=(1, 1))\n",
       "            (fc2): Conv2d(28, 672, kernel_size=(1, 1), stride=(1, 1))\n",
       "            (activation): SiLU(inplace=True)\n",
       "            (scale_activation): Sigmoid()\n",
       "          )\n",
       "          (3): Conv2dNormActivation(\n",
       "            (0): Conv2d(672, 112, kernel_size=(1, 1), stride=(1, 1), bias=False)\n",
       "            (1): BatchNorm2d(112, eps=1e-05, momentum=0.1, affine=True, track_running_stats=True)\n",
       "          )\n",
       "        )\n",
       "        (stochastic_depth): StochasticDepth(p=0.125, mode=row)\n",
       "      )\n",
       "    )\n",
       "    (6): Sequential(\n",
       "      (0): MBConv(\n",
       "        (block): Sequential(\n",
       "          (0): Conv2dNormActivation(\n",
       "            (0): Conv2d(112, 672, kernel_size=(1, 1), stride=(1, 1), bias=False)\n",
       "            (1): BatchNorm2d(672, eps=1e-05, momentum=0.1, affine=True, track_running_stats=True)\n",
       "            (2): SiLU(inplace=True)\n",
       "          )\n",
       "          (1): Conv2dNormActivation(\n",
       "            (0): Conv2d(672, 672, kernel_size=(5, 5), stride=(2, 2), padding=(2, 2), groups=672, bias=False)\n",
       "            (1): BatchNorm2d(672, eps=1e-05, momentum=0.1, affine=True, track_running_stats=True)\n",
       "            (2): SiLU(inplace=True)\n",
       "          )\n",
       "          (2): SqueezeExcitation(\n",
       "            (avgpool): AdaptiveAvgPool2d(output_size=1)\n",
       "            (fc1): Conv2d(672, 28, kernel_size=(1, 1), stride=(1, 1))\n",
       "            (fc2): Conv2d(28, 672, kernel_size=(1, 1), stride=(1, 1))\n",
       "            (activation): SiLU(inplace=True)\n",
       "            (scale_activation): Sigmoid()\n",
       "          )\n",
       "          (3): Conv2dNormActivation(\n",
       "            (0): Conv2d(672, 192, kernel_size=(1, 1), stride=(1, 1), bias=False)\n",
       "            (1): BatchNorm2d(192, eps=1e-05, momentum=0.1, affine=True, track_running_stats=True)\n",
       "          )\n",
       "        )\n",
       "        (stochastic_depth): StochasticDepth(p=0.1375, mode=row)\n",
       "      )\n",
       "      (1): MBConv(\n",
       "        (block): Sequential(\n",
       "          (0): Conv2dNormActivation(\n",
       "            (0): Conv2d(192, 1152, kernel_size=(1, 1), stride=(1, 1), bias=False)\n",
       "            (1): BatchNorm2d(1152, eps=1e-05, momentum=0.1, affine=True, track_running_stats=True)\n",
       "            (2): SiLU(inplace=True)\n",
       "          )\n",
       "          (1): Conv2dNormActivation(\n",
       "            (0): Conv2d(1152, 1152, kernel_size=(5, 5), stride=(1, 1), padding=(2, 2), groups=1152, bias=False)\n",
       "            (1): BatchNorm2d(1152, eps=1e-05, momentum=0.1, affine=True, track_running_stats=True)\n",
       "            (2): SiLU(inplace=True)\n",
       "          )\n",
       "          (2): SqueezeExcitation(\n",
       "            (avgpool): AdaptiveAvgPool2d(output_size=1)\n",
       "            (fc1): Conv2d(1152, 48, kernel_size=(1, 1), stride=(1, 1))\n",
       "            (fc2): Conv2d(48, 1152, kernel_size=(1, 1), stride=(1, 1))\n",
       "            (activation): SiLU(inplace=True)\n",
       "            (scale_activation): Sigmoid()\n",
       "          )\n",
       "          (3): Conv2dNormActivation(\n",
       "            (0): Conv2d(1152, 192, kernel_size=(1, 1), stride=(1, 1), bias=False)\n",
       "            (1): BatchNorm2d(192, eps=1e-05, momentum=0.1, affine=True, track_running_stats=True)\n",
       "          )\n",
       "        )\n",
       "        (stochastic_depth): StochasticDepth(p=0.15000000000000002, mode=row)\n",
       "      )\n",
       "      (2): MBConv(\n",
       "        (block): Sequential(\n",
       "          (0): Conv2dNormActivation(\n",
       "            (0): Conv2d(192, 1152, kernel_size=(1, 1), stride=(1, 1), bias=False)\n",
       "            (1): BatchNorm2d(1152, eps=1e-05, momentum=0.1, affine=True, track_running_stats=True)\n",
       "            (2): SiLU(inplace=True)\n",
       "          )\n",
       "          (1): Conv2dNormActivation(\n",
       "            (0): Conv2d(1152, 1152, kernel_size=(5, 5), stride=(1, 1), padding=(2, 2), groups=1152, bias=False)\n",
       "            (1): BatchNorm2d(1152, eps=1e-05, momentum=0.1, affine=True, track_running_stats=True)\n",
       "            (2): SiLU(inplace=True)\n",
       "          )\n",
       "          (2): SqueezeExcitation(\n",
       "            (avgpool): AdaptiveAvgPool2d(output_size=1)\n",
       "            (fc1): Conv2d(1152, 48, kernel_size=(1, 1), stride=(1, 1))\n",
       "            (fc2): Conv2d(48, 1152, kernel_size=(1, 1), stride=(1, 1))\n",
       "            (activation): SiLU(inplace=True)\n",
       "            (scale_activation): Sigmoid()\n",
       "          )\n",
       "          (3): Conv2dNormActivation(\n",
       "            (0): Conv2d(1152, 192, kernel_size=(1, 1), stride=(1, 1), bias=False)\n",
       "            (1): BatchNorm2d(192, eps=1e-05, momentum=0.1, affine=True, track_running_stats=True)\n",
       "          )\n",
       "        )\n",
       "        (stochastic_depth): StochasticDepth(p=0.1625, mode=row)\n",
       "      )\n",
       "      (3): MBConv(\n",
       "        (block): Sequential(\n",
       "          (0): Conv2dNormActivation(\n",
       "            (0): Conv2d(192, 1152, kernel_size=(1, 1), stride=(1, 1), bias=False)\n",
       "            (1): BatchNorm2d(1152, eps=1e-05, momentum=0.1, affine=True, track_running_stats=True)\n",
       "            (2): SiLU(inplace=True)\n",
       "          )\n",
       "          (1): Conv2dNormActivation(\n",
       "            (0): Conv2d(1152, 1152, kernel_size=(5, 5), stride=(1, 1), padding=(2, 2), groups=1152, bias=False)\n",
       "            (1): BatchNorm2d(1152, eps=1e-05, momentum=0.1, affine=True, track_running_stats=True)\n",
       "            (2): SiLU(inplace=True)\n",
       "          )\n",
       "          (2): SqueezeExcitation(\n",
       "            (avgpool): AdaptiveAvgPool2d(output_size=1)\n",
       "            (fc1): Conv2d(1152, 48, kernel_size=(1, 1), stride=(1, 1))\n",
       "            (fc2): Conv2d(48, 1152, kernel_size=(1, 1), stride=(1, 1))\n",
       "            (activation): SiLU(inplace=True)\n",
       "            (scale_activation): Sigmoid()\n",
       "          )\n",
       "          (3): Conv2dNormActivation(\n",
       "            (0): Conv2d(1152, 192, kernel_size=(1, 1), stride=(1, 1), bias=False)\n",
       "            (1): BatchNorm2d(192, eps=1e-05, momentum=0.1, affine=True, track_running_stats=True)\n",
       "          )\n",
       "        )\n",
       "        (stochastic_depth): StochasticDepth(p=0.17500000000000002, mode=row)\n",
       "      )\n",
       "    )\n",
       "    (7): Sequential(\n",
       "      (0): MBConv(\n",
       "        (block): Sequential(\n",
       "          (0): Conv2dNormActivation(\n",
       "            (0): Conv2d(192, 1152, kernel_size=(1, 1), stride=(1, 1), bias=False)\n",
       "            (1): BatchNorm2d(1152, eps=1e-05, momentum=0.1, affine=True, track_running_stats=True)\n",
       "            (2): SiLU(inplace=True)\n",
       "          )\n",
       "          (1): Conv2dNormActivation(\n",
       "            (0): Conv2d(1152, 1152, kernel_size=(3, 3), stride=(1, 1), padding=(1, 1), groups=1152, bias=False)\n",
       "            (1): BatchNorm2d(1152, eps=1e-05, momentum=0.1, affine=True, track_running_stats=True)\n",
       "            (2): SiLU(inplace=True)\n",
       "          )\n",
       "          (2): SqueezeExcitation(\n",
       "            (avgpool): AdaptiveAvgPool2d(output_size=1)\n",
       "            (fc1): Conv2d(1152, 48, kernel_size=(1, 1), stride=(1, 1))\n",
       "            (fc2): Conv2d(48, 1152, kernel_size=(1, 1), stride=(1, 1))\n",
       "            (activation): SiLU(inplace=True)\n",
       "            (scale_activation): Sigmoid()\n",
       "          )\n",
       "          (3): Conv2dNormActivation(\n",
       "            (0): Conv2d(1152, 320, kernel_size=(1, 1), stride=(1, 1), bias=False)\n",
       "            (1): BatchNorm2d(320, eps=1e-05, momentum=0.1, affine=True, track_running_stats=True)\n",
       "          )\n",
       "        )\n",
       "        (stochastic_depth): StochasticDepth(p=0.1875, mode=row)\n",
       "      )\n",
       "    )\n",
       "    (8): Conv2dNormActivation(\n",
       "      (0): Conv2d(320, 1280, kernel_size=(1, 1), stride=(1, 1), bias=False)\n",
       "      (1): BatchNorm2d(1280, eps=1e-05, momentum=0.1, affine=True, track_running_stats=True)\n",
       "      (2): SiLU(inplace=True)\n",
       "    )\n",
       "  )\n",
       "  (avgpool): AdaptiveAvgPool2d(output_size=1)\n",
       "  (classifier): Sequential(\n",
       "    (0): Dropout(p=0.2, inplace=True)\n",
       "    (1): Linear(in_features=1280, out_features=1000, bias=True)\n",
       "  )\n",
       ")"
      ]
     },
     "execution_count": 6,
     "metadata": {},
     "output_type": "execute_result"
    }
   ],
   "source": [
    "# unedited model\n",
    "model = models.efficientnet_b0(weights=None)\n",
    "model"
   ]
  },
  {
   "cell_type": "markdown",
   "id": "92ea5554-7920-44d0-a47c-a2b741b70e59",
   "metadata": {},
   "source": [
    "Now we're getting into the real meat of the architecture. The setup_model() function below has a few purposes. First, it initializes our chosen model (efficientnetb0) without weights, so that we can train it from scratch. Then it changes the input layer to take in one input instead of three (because our images are grayscale and therefore only have one channel as opposed to rgb images). Lastly, the last convolutional layer of our model's classifier needs to be changed to have a single output, since we're going to be doing regression and not classification. We've also increased the dropout in the last layer to help with overfitting, which was an issue in earlier testing."
   ]
  },
  {
   "cell_type": "code",
   "execution_count": 8,
   "id": "c6081038-4636-4c9a-90d7-e1e195628321",
   "metadata": {},
   "outputs": [],
   "source": [
    "def setup_model():\n",
    "    model = models.efficientnet_b0(weights=None)\n",
    "\n",
    "    # grayscale input\n",
    "    model.features[0][0] = nn.Conv2d(1, 32, kernel_size=3, stride=2, padding=1, bias=False)\n",
    "    \n",
    "    # regression output\n",
    "    num_ftrs = model.classifier[1].in_features\n",
    "    model.classifier[1] = nn.Linear(num_ftrs, 1, bias=True)\n",
    "    # increase dropout to combat overfitting\n",
    "    model.classifier[0] = nn.Dropout(p=0.5, inplace=True)\n",
    "\n",
    "    return model"
   ]
  },
  {
   "cell_type": "markdown",
   "id": "1e198b69-16b2-4b24-9f84-745cc41af8c0",
   "metadata": {},
   "source": [
    "## Training\n",
    "\n",
    "The training conventions for our model are going to be pretty standard. The main changes that we made are the use of weight decay (also to combat overfitting), and early stopping to save the best states of our model, based on cross-validation loss. Besides that, we'll be using MSE Loss and the Adam optimizer, both pretty standard choices for model training. Other than that, we'll go through batch by batch and call the forward and backward functions. Pytorch will do the rest."
   ]
  },
  {
   "cell_type": "code",
   "execution_count": 9,
   "id": "c3342b9c-34d4-458b-ab9e-330a17d15cbf",
   "metadata": {},
   "outputs": [],
   "source": [
    "def train(model, train_loader, val_loader, num_epochs=10, lr=1e-4, batch_size=32):\n",
    "    device = torch.device(\"cuda\" if torch.cuda.is_available() else \n",
    "                         \"mps\" if torch.backends.mps.is_available() else\n",
    "                         \"cpu\")\n",
    "    print(f\"Using {device}\")\n",
    "    model.to(device)\n",
    "\n",
    "    criterion = nn.MSELoss()\n",
    "    optimizer = optim.Adam(model.parameters(), lr=lr, weight_decay=1e-4) # *** TRYING WEIGHT DECAY TO COMBAT OVERFITTING ***\n",
    "\n",
    "    best_val_loss = float('inf')\n",
    "    train_losses = []\n",
    "    val_losses = []\n",
    "    for epoch in range(num_epochs):\n",
    "        model.train()\n",
    "        running_loss = 0.0\n",
    "        for batch_idx, (inputs, targets) in enumerate(tqdm(train_loader)):\n",
    "            inputs, targets = inputs.to(device), targets.to(device)\n",
    "\n",
    "            # forward\n",
    "            optimizer.zero_grad()\n",
    "            outputs = model(inputs)\n",
    "\n",
    "            loss = criterion(outputs.view(-1), targets)  # flatten for regression\n",
    "            loss.backward()\n",
    "            optimizer.step()\n",
    "\n",
    "            running_loss += loss.item()\n",
    "\n",
    "        # Print training statistics\n",
    "        avg_train_loss = running_loss / len(train_loader)\n",
    "        print(f'Epoch [{epoch+1}/{num_epochs}], Training Loss: {avg_train_loss}')\n",
    "        train_losses.append(avg_train_loss)\n",
    "\n",
    "        model.eval()\n",
    "        with torch.no_grad():\n",
    "            val_loss = 0.0\n",
    "            for batch_idx, (inputs, targets) in enumerate(val_loader):\n",
    "                inputs, targets = inputs.to(device), targets.to(device)\n",
    "                outputs = model(inputs)\n",
    "                loss = criterion(outputs.view(-1), targets)\n",
    "                val_loss += loss.item()\n",
    "\n",
    "            avg_val_loss = val_loss / len(val_loader)\n",
    "            print(f'Epoch [{epoch+1}/{num_epochs}], Validation Loss: {avg_val_loss}')\n",
    "\n",
    "        if avg_val_loss < best_val_loss:\n",
    "            best_val_loss = avg_val_loss\n",
    "            torch.save(model.state_dict(), f'run2_effnetb0_alz_saved_states/effnetb0_alz_ep{epoch+1}.pth')\n",
    "            print(f'saved model at {best_val_loss} loss')\n",
    "\n",
    "        val_losses.append(avg_val_loss)\n",
    "\n",
    "    print(\"Done\")\n",
    "    return train_losses, val_losses"
   ]
  },
  {
   "cell_type": "markdown",
   "id": "cd317bf9-0248-4b1d-a705-171986b3e1be",
   "metadata": {},
   "source": [
    "## Evaluation Metrics\n",
    "\n",
    "We also need to define an evaluation function that we can use on the test loader. After we're done training our model and saving its best states, we'll use this to get test statistics about its performance. Mainly, the R-squared and MSE. We've also thrown in MAE and RMSE. MAE is a little more resilient against large outliers.\n",
    "\n",
    "Additionally, we've written some methods to work with the true labels and predictions from our evaluate function and provide some visual interpretation of them. The scatter function compares the true labels against the predictions, while the histogram function plots the frequency of (prediction - true label) values."
   ]
  },
  {
   "cell_type": "code",
   "execution_count": 10,
   "id": "08236817-b495-46c5-a4fe-466acce28578",
   "metadata": {},
   "outputs": [],
   "source": [
    "def evaluate(model, test_loader):\n",
    "    model.eval()\n",
    "    device = torch.device(\"cuda\" if torch.cuda.is_available() else \n",
    "                         \"mps\" if torch.backends.mps.is_available() else\n",
    "                         \"cpu\")\n",
    "    model.to(device)\n",
    "    \n",
    "    predictions = []\n",
    "    true_labels = []\n",
    "\n",
    "    with torch.no_grad():\n",
    "        for inputs, targets in test_loader:\n",
    "            inputs, targets = inputs.to(device), targets.to(device)\n",
    "            outputs = model(inputs)\n",
    "            predictions.append(outputs.cpu().numpy())\n",
    "            true_labels.append(targets.cpu().numpy())\n",
    "\n",
    "    predictions = np.concatenate(predictions, axis=0).flatten()\n",
    "    true_labels = np.concatenate(true_labels, axis=0).flatten()\n",
    "\n",
    "    # Compute evaluation metrics\n",
    "    mae = mean_absolute_error(true_labels, predictions)\n",
    "    mse = mean_squared_error(true_labels, predictions)\n",
    "    rmse = np.sqrt(mse)\n",
    "    r2 = r2_score(true_labels, predictions)\n",
    "\n",
    "    print(f'Mean Absolute Error (MAE): {mae}')\n",
    "    print(f'Mean Squared Error (MSE): {mse}')\n",
    "    print(f'Root Mean Squared Error (RMSE): {rmse}')\n",
    "    print(f'R2 Score: {r2}')\n",
    "\n",
    "    return true_labels, predictions\n",
    "\n",
    "def plot_scatter(true_labels, predictions):\n",
    "    plt.figure(figsize=(10, 6))\n",
    "    plt.scatter(true_labels, predictions, alpha=0.5)\n",
    "    plt.xlabel('True Age')\n",
    "    plt.ylabel('Predicted Age')\n",
    "    plt.axline((0,0),(80,80), label = 'Perfect Match', color='r')\n",
    "    plt.legend()\n",
    "    plt.title('Predicted Age vs True Age')\n",
    "    plt.show()\n",
    "\n",
    "def plot_error_distribution(true_labels, predictions):\n",
    "    errors = predictions - true_labels\n",
    "    mean = np.mean(errors)\n",
    "    std = stats.sem(errors)\n",
    "    CI = stats.norm.interval(0.95, loc = mean, scale = std)\n",
    "    plt.hist(errors, bins=1000, density=True)\n",
    "    plt.axvline(mean, color = 'r', label=f'Mean: {mean:.2f}')\n",
    "    plt.axvline(CI[0], color = 'b', linestyle='dashed', label=f'95% CI: [{CI[0]:.2f}, {CI[1]:.2f}]')\n",
    "    plt.axvline(CI[1], color = 'b', linestyle='dashed')\n",
    "    plt.xlabel('Prediction - True Age')\n",
    "    plt.ylabel('Frequency')\n",
    "    plt.title('Prediction Error Distribution')\n",
    "    plt.legend(loc = 'upper right')\n",
    "    plt.show()"
   ]
  },
  {
   "cell_type": "markdown",
   "id": "0f2cb23b-519a-4770-be57-a8406ad4b932",
   "metadata": {},
   "source": [
    "In our best training run, we trained our model for 40 epochs and eventually settled on the 11th epoch as the best balance of performance on the cv set and generalizability. We saw that there were epochs that performed better on the cross-validation set, but we were wary of overfitting, and the 11th epoch saved state already performs quite well."
   ]
  },
  {
   "cell_type": "code",
   "execution_count": 75,
   "id": "59b04ca9-7b6c-498c-bbf9-7190274a2c29",
   "metadata": {},
   "outputs": [
    {
     "name": "stdout",
     "output_type": "stream",
     "text": [
      "Using mps\n"
     ]
    },
    {
     "name": "stderr",
     "output_type": "stream",
     "text": [
      "100%|█████████████████████████████████████████████████████████████████████████████████████████████████████████████████████████████████████████████████████████████████████████████| 1391/1391 [10:50<00:00,  2.14it/s]\n"
     ]
    },
    {
     "name": "stdout",
     "output_type": "stream",
     "text": [
      "Epoch [1/20], Training Loss: 185.58317461569132\n",
      "Epoch [1/20], Validation Loss: 56.57713151458126\n",
      "saved model at 56.57713151458126 loss\n"
     ]
    },
    {
     "name": "stderr",
     "output_type": "stream",
     "text": [
      "100%|█████████████████████████████████████████████████████████████████████████████████████████████████████████████████████████████████████████████████████████████████████████████| 1391/1391 [10:39<00:00,  2.18it/s]\n"
     ]
    },
    {
     "name": "stdout",
     "output_type": "stream",
     "text": [
      "Epoch [2/20], Training Loss: 63.8196821103072\n",
      "Epoch [2/20], Validation Loss: 36.014158936954985\n",
      "saved model at 36.014158936954985 loss\n"
     ]
    },
    {
     "name": "stderr",
     "output_type": "stream",
     "text": [
      "100%|█████████████████████████████████████████████████████████████████████████████████████████████████████████████████████████████████████████████████████████████████████████████| 1391/1391 [10:39<00:00,  2.18it/s]\n"
     ]
    },
    {
     "name": "stdout",
     "output_type": "stream",
     "text": [
      "Epoch [3/20], Training Loss: 41.08140801526419\n",
      "Epoch [3/20], Validation Loss: 37.773602597665466\n"
     ]
    },
    {
     "name": "stderr",
     "output_type": "stream",
     "text": [
      "100%|█████████████████████████████████████████████████████████████████████████████████████████████████████████████████████████████████████████████████████████████████████████████| 1391/1391 [10:44<00:00,  2.16it/s]\n"
     ]
    },
    {
     "name": "stdout",
     "output_type": "stream",
     "text": [
      "Epoch [4/20], Training Loss: 30.560901831757842\n",
      "Epoch [4/20], Validation Loss: 25.892833743319414\n",
      "saved model at 25.892833743319414 loss\n"
     ]
    },
    {
     "name": "stderr",
     "output_type": "stream",
     "text": [
      "100%|█████████████████████████████████████████████████████████████████████████████████████████████████████████████████████████████████████████████████████████████████████████████| 1391/1391 [10:39<00:00,  2.17it/s]\n"
     ]
    },
    {
     "name": "stdout",
     "output_type": "stream",
     "text": [
      "Epoch [5/20], Training Loss: 25.17245842620334\n",
      "Epoch [5/20], Validation Loss: 32.697822221973595\n"
     ]
    },
    {
     "name": "stderr",
     "output_type": "stream",
     "text": [
      "100%|█████████████████████████████████████████████████████████████████████████████████████████████████████████████████████████████████████████████████████████████████████████████| 1391/1391 [10:36<00:00,  2.19it/s]\n"
     ]
    },
    {
     "name": "stdout",
     "output_type": "stream",
     "text": [
      "Epoch [6/20], Training Loss: 20.95645631259504\n",
      "Epoch [6/20], Validation Loss: 17.030953300079243\n",
      "saved model at 17.030953300079243 loss\n"
     ]
    },
    {
     "name": "stderr",
     "output_type": "stream",
     "text": [
      "100%|█████████████████████████████████████████████████████████████████████████████████████████████████████████████████████████████████████████████████████████████████████████████| 1391/1391 [10:35<00:00,  2.19it/s]\n"
     ]
    },
    {
     "name": "stdout",
     "output_type": "stream",
     "text": [
      "Epoch [7/20], Training Loss: 19.87924566515738\n",
      "Epoch [7/20], Validation Loss: 18.973953700705664\n"
     ]
    },
    {
     "name": "stderr",
     "output_type": "stream",
     "text": [
      "100%|█████████████████████████████████████████████████████████████████████████████████████████████████████████████████████████████████████████████████████████████████████████████| 1391/1391 [10:44<00:00,  2.16it/s]\n"
     ]
    },
    {
     "name": "stdout",
     "output_type": "stream",
     "text": [
      "Epoch [8/20], Training Loss: 18.24131864270746\n",
      "Epoch [8/20], Validation Loss: 10.426785895488406\n",
      "saved model at 10.426785895488406 loss\n"
     ]
    },
    {
     "name": "stderr",
     "output_type": "stream",
     "text": [
      "100%|█████████████████████████████████████████████████████████████████████████████████████████████████████████████████████████████████████████████████████████████████████████████| 1391/1391 [10:45<00:00,  2.15it/s]\n"
     ]
    },
    {
     "name": "stdout",
     "output_type": "stream",
     "text": [
      "Epoch [9/20], Training Loss: 15.120890340386836\n",
      "Epoch [9/20], Validation Loss: 12.172032525875425\n"
     ]
    },
    {
     "name": "stderr",
     "output_type": "stream",
     "text": [
      "100%|█████████████████████████████████████████████████████████████████████████████████████████████████████████████████████████████████████████████████████████████████████████████| 1391/1391 [10:48<00:00,  2.14it/s]\n"
     ]
    },
    {
     "name": "stdout",
     "output_type": "stream",
     "text": [
      "Epoch [10/20], Training Loss: 13.222440936083762\n",
      "Epoch [10/20], Validation Loss: 16.245238799376775\n"
     ]
    },
    {
     "name": "stderr",
     "output_type": "stream",
     "text": [
      "100%|█████████████████████████████████████████████████████████████████████████████████████████████████████████████████████████████████████████████████████████████████████████████| 1391/1391 [10:39<00:00,  2.17it/s]\n"
     ]
    },
    {
     "name": "stdout",
     "output_type": "stream",
     "text": [
      "Epoch [11/20], Training Loss: 16.06650198148704\n",
      "Epoch [11/20], Validation Loss: 10.941601622024638\n"
     ]
    },
    {
     "name": "stderr",
     "output_type": "stream",
     "text": [
      "100%|█████████████████████████████████████████████████████████████████████████████████████████████████████████████████████████████████████████████████████████████████████████████| 1391/1391 [10:49<00:00,  2.14it/s]\n"
     ]
    },
    {
     "name": "stdout",
     "output_type": "stream",
     "text": [
      "Epoch [12/20], Training Loss: 10.526577160908626\n",
      "Epoch [12/20], Validation Loss: 5.479780634777658\n",
      "saved model at 5.479780634777658 loss\n"
     ]
    },
    {
     "name": "stderr",
     "output_type": "stream",
     "text": [
      "100%|█████████████████████████████████████████████████████████████████████████████████████████████████████████████████████████████████████████████████████████████████████████████| 1391/1391 [10:49<00:00,  2.14it/s]\n"
     ]
    },
    {
     "name": "stdout",
     "output_type": "stream",
     "text": [
      "Epoch [13/20], Training Loss: 13.30646638181208\n",
      "Epoch [13/20], Validation Loss: 8.839335387185116\n"
     ]
    },
    {
     "name": "stderr",
     "output_type": "stream",
     "text": [
      "100%|█████████████████████████████████████████████████████████████████████████████████████████████████████████████████████████████████████████████████████████████████████████████| 1391/1391 [10:39<00:00,  2.17it/s]\n"
     ]
    },
    {
     "name": "stdout",
     "output_type": "stream",
     "text": [
      "Epoch [14/20], Training Loss: 10.617213264461219\n",
      "Epoch [14/20], Validation Loss: 7.126629250961662\n"
     ]
    },
    {
     "name": "stderr",
     "output_type": "stream",
     "text": [
      "100%|█████████████████████████████████████████████████████████████████████████████████████████████████████████████████████████████████████████████████████████████████████████████| 1391/1391 [10:48<00:00,  2.15it/s]\n"
     ]
    },
    {
     "name": "stdout",
     "output_type": "stream",
     "text": [
      "Epoch [15/20], Training Loss: 10.13502093324723\n",
      "Epoch [15/20], Validation Loss: 13.34157684905417\n"
     ]
    },
    {
     "name": "stderr",
     "output_type": "stream",
     "text": [
      "100%|█████████████████████████████████████████████████████████████████████████████████████████████████████████████████████████████████████████████████████████████████████████████| 1391/1391 [10:38<00:00,  2.18it/s]\n"
     ]
    },
    {
     "name": "stdout",
     "output_type": "stream",
     "text": [
      "Epoch [16/20], Training Loss: 10.581414524725579\n",
      "Epoch [16/20], Validation Loss: 5.5045505850107075\n"
     ]
    },
    {
     "name": "stderr",
     "output_type": "stream",
     "text": [
      "100%|█████████████████████████████████████████████████████████████████████████████████████████████████████████████████████████████████████████████████████████████████████████████| 1391/1391 [10:41<00:00,  2.17it/s]\n"
     ]
    },
    {
     "name": "stdout",
     "output_type": "stream",
     "text": [
      "Epoch [17/20], Training Loss: 9.737840751192708\n",
      "Epoch [17/20], Validation Loss: 6.52278775896802\n"
     ]
    },
    {
     "name": "stderr",
     "output_type": "stream",
     "text": [
      "100%|█████████████████████████████████████████████████████████████████████████████████████████████████████████████████████████████████████████████████████████████████████████████| 1391/1391 [10:38<00:00,  2.18it/s]\n"
     ]
    },
    {
     "name": "stdout",
     "output_type": "stream",
     "text": [
      "Epoch [18/20], Training Loss: 8.698562304978743\n",
      "Epoch [18/20], Validation Loss: 6.991315692863209\n"
     ]
    },
    {
     "name": "stderr",
     "output_type": "stream",
     "text": [
      "100%|█████████████████████████████████████████████████████████████████████████████████████████████████████████████████████████████████████████████████████████████████████████████| 1391/1391 [11:28<00:00,  2.02it/s]\n"
     ]
    },
    {
     "name": "stdout",
     "output_type": "stream",
     "text": [
      "Epoch [19/20], Training Loss: 7.843630540722313\n",
      "Epoch [19/20], Validation Loss: 9.567983377299853\n"
     ]
    },
    {
     "name": "stderr",
     "output_type": "stream",
     "text": [
      "100%|█████████████████████████████████████████████████████████████████████████████████████████████████████████████████████████████████████████████████████████████████████████████| 1391/1391 [11:33<00:00,  2.00it/s]\n"
     ]
    },
    {
     "name": "stdout",
     "output_type": "stream",
     "text": [
      "Epoch [20/20], Training Loss: 8.659289337250074\n",
      "Epoch [20/20], Validation Loss: 11.176484126772657\n",
      "Done\n"
     ]
    },
    {
     "data": {
      "text/plain": [
       "([185.58317461569132,\n",
       "  63.8196821103072,\n",
       "  41.08140801526419,\n",
       "  30.560901831757842,\n",
       "  25.17245842620334,\n",
       "  20.95645631259504,\n",
       "  19.87924566515738,\n",
       "  18.24131864270746,\n",
       "  15.120890340386836,\n",
       "  13.222440936083762,\n",
       "  16.06650198148704,\n",
       "  10.526577160908626,\n",
       "  13.30646638181208,\n",
       "  10.617213264461219,\n",
       "  10.13502093324723,\n",
       "  10.581414524725579,\n",
       "  9.737840751192708,\n",
       "  8.698562304978743,\n",
       "  7.843630540722313,\n",
       "  8.659289337250074],\n",
       " [56.57713151458126,\n",
       "  36.014158936954985,\n",
       "  37.773602597665466,\n",
       "  25.892833743319414,\n",
       "  32.697822221973595,\n",
       "  17.030953300079243,\n",
       "  18.973953700705664,\n",
       "  10.426785895488406,\n",
       "  12.172032525875425,\n",
       "  16.245238799376775,\n",
       "  10.941601622024638,\n",
       "  5.479780634777658,\n",
       "  8.839335387185116,\n",
       "  7.126629250961662,\n",
       "  13.34157684905417,\n",
       "  5.5045505850107075,\n",
       "  6.52278775896802,\n",
       "  6.991315692863209,\n",
       "  9.567983377299853,\n",
       "  11.176484126772657])"
      ]
     },
     "execution_count": 75,
     "metadata": {},
     "output_type": "execute_result"
    }
   ],
   "source": [
    "model = setup_model()\n",
    "train_losses, val_losses = train(model, train_loader, val_loader, num_epochs=20, lr=1e-3)"
   ]
  },
  {
   "cell_type": "markdown",
   "id": "89b75ef5-c053-47a0-b10a-de334c9a29dd",
   "metadata": {},
   "source": [
    "# Evaluation\n",
    "\n",
    "In this next module we're visualizing the stored train and cross-validation losses from our training process. We can see that the train and validation loss both decrease rapidly and stay low, which is encouraging. In previous iterations, we saw a rapid decrease in cv-loss, but an exponential increase later on, which was highly indicative of overfitting. Visualizing our model's metrics like this allow us to be cognizant of performance and ultimately develop a better model."
   ]
  },
  {
   "cell_type": "code",
   "execution_count": 147,
   "id": "d8d77d53-527a-4fdb-97c7-a42e99bf656b",
   "metadata": {},
   "outputs": [
    {
     "data": {
      "image/png": "[encoded data removed]",
      "text/plain": [
       "<Figure size 1000x600 with 1 Axes>"
      ]
     },
     "metadata": {},
     "output_type": "display_data"
    }
   ],
   "source": [
    "# example run train/val losses\n",
    "train_losses = [185.58, 63.82, 41.08, 30.56, 25.17, 20.96, 19.88, 18.24, 15.12, 13.22, 16.07, 10.53, 13.31, 10.62, 10.14, 10.58, 9.74, 8.70, 7.84, 8.66] \n",
    "val_losses = [56.58, 36.01, 37.77, 25.89, 32.70, 17.03, 18.97, 10.43, 12.17, 16.25, 10.94, 5.48, 8.84, 7.13, 13.34, 5.50, 6.52, 6.99, 9.57, 11.18]\n",
    "\n",
    "def plot_train_val_loss(train_losses, val_losses):\n",
    "    steps = list(range(1, 21))\n",
    "    plt.figure(figsize=(10, 6))\n",
    "    plt.plot(steps, train_losses, '-o', label='Train', alpha=0.5)\n",
    "    plt.plot(steps, val_losses, '-o', label='Validation', alpha=0.5)\n",
    "    plt.xlabel('Epoch')\n",
    "    plt.ylabel('Loss (Years Squared)')\n",
    "    plt.legend()\n",
    "    plt.xticks(steps)\n",
    "    plt.title('Train vs Validation Loss per Epoch')\n",
    "    plt.show()\n",
    "\n",
    "plot_train_val_loss(train_losses, val_losses)"
   ]
  },
  {
   "cell_type": "markdown",
   "id": "b3d0388c-3b7f-43f8-8b86-a68b159ef8df",
   "metadata": {},
   "source": [
    "Let's get some test statistics and figures on our model's performance on the test set:"
   ]
  },
  {
   "cell_type": "code",
   "execution_count": 148,
   "id": "c2d9e974-d23d-4fe2-a512-92008d82687d",
   "metadata": {},
   "outputs": [
    {
     "data": {
      "text/plain": [
       "<All keys matched successfully>"
      ]
     },
     "execution_count": 148,
     "metadata": {},
     "output_type": "execute_result"
    }
   ],
   "source": [
    "### LOAD OUR BEST CHOSEN STATE\n",
    "model = setup_model()\n",
    "model.load_state_dict(torch.load('run1_effnetb0_alz_saved_states/effnetb0_alz_ep11.pth', weights_only=True))"
   ]
  },
  {
   "cell_type": "code",
   "execution_count": 134,
   "id": "24617221-6e83-4b6c-8153-9db3bb03125c",
   "metadata": {},
   "outputs": [
    {
     "name": "stdout",
     "output_type": "stream",
     "text": [
      "Mean Absolute Error (MAE): 1.96260404586792\n",
      "Mean Squared Error (MSE): 7.98716926574707\n",
      "Root Mean Squared Error (RMSE): 2.8261580397683126\n",
      "R2 Score: 0.986268162727356\n"
     ]
    }
   ],
   "source": [
    "# PRINT TEST STATISTICS\n",
    "true_labels, predictions = evaluate(model, test_loader)"
   ]
  },
  {
   "cell_type": "code",
   "execution_count": 135,
   "id": "91a9b56b-4dae-4ea2-a1da-f280d6436da3",
   "metadata": {},
   "outputs": [
    {
     "data": {
      "image/png": "[encoded data removed]",
      "text/plain": [
       "<Figure size 1000x600 with 1 Axes>"
      ]
     },
     "metadata": {},
     "output_type": "display_data"
    }
   ],
   "source": [
    "plot_scatter(true_labels, predictions)"
   ]
  },
  {
   "cell_type": "code",
   "execution_count": 136,
   "id": "1ca6fbf2-bc05-450b-953e-158cfd8b8be2",
   "metadata": {},
   "outputs": [
    {
     "data": {
      "image/png": "[encoded data removed]",
      "text/plain": [
       "<Figure size 640x480 with 1 Axes>"
      ]
     },
     "metadata": {},
     "output_type": "display_data"
    }
   ],
   "source": [
    "plot_error_distribution(true_labels, predictions)"
   ]
  },
  {
   "cell_type": "markdown",
   "id": "82a7d691-b93c-4b5f-8610-12cad53f37e7",
   "metadata": {},
   "source": [
    "Let's go through the same evaluation process for our model, but on the moderately demented dataset:"
   ]
  },
  {
   "cell_type": "code",
   "execution_count": 26,
   "id": "c8d3e34d-6df6-4b75-8605-2c3f7d90a708",
   "metadata": {},
   "outputs": [
    {
     "data": {
      "text/plain": [
       "<All keys matched successfully>"
      ]
     },
     "execution_count": 26,
     "metadata": {},
     "output_type": "execute_result"
    }
   ],
   "source": [
    "model = setup_model()\n",
    "model.load_state_dict(torch.load('run1_effnetb0_alz_saved_states/effnetb0_alz_ep11.pth', weights_only=True))"
   ]
  },
  {
   "cell_type": "code",
   "execution_count": 27,
   "id": "caae1016-241d-4b2a-bd64-39edca42df55",
   "metadata": {},
   "outputs": [
    {
     "name": "stdout",
     "output_type": "stream",
     "text": [
      "Mean Absolute Error (MAE): 6.995109558105469\n",
      "Mean Squared Error (MSE): 81.36206817626953\n",
      "Root Mean Squared Error (RMSE): 9.020092470494387\n",
      "R2 Score: -0.6225926876068115\n"
     ]
    }
   ],
   "source": [
    "mod_true_labels, mod_predictions = evaluate(model, vmd_loader)"
   ]
  },
  {
   "cell_type": "code",
   "execution_count": 30,
   "id": "9d0c32ac-d3b0-4b0e-b6be-b01fb98c3467",
   "metadata": {},
   "outputs": [
    {
     "data": {
      "image/png": "[encoded data removed]",
      "text/plain": [
       "<Figure size 1000x600 with 1 Axes>"
      ]
     },
     "metadata": {},
     "output_type": "display_data"
    }
   ],
   "source": [
    "plot_scatter(mod_true_labels, mod_predictions)"
   ]
  },
  {
   "cell_type": "code",
   "execution_count": 29,
   "id": "26f346c9-fe57-40ef-8670-22f283c61c07",
   "metadata": {},
   "outputs": [
    {
     "data": {
      "image/png": "[encoded data removed]",
      "text/plain": [
       "<Figure size 640x480 with 1 Axes>"
      ]
     },
     "metadata": {},
     "output_type": "display_data"
    }
   ],
   "source": [
    "plot_error_distribution(mod_true_labels, mod_predictions)"
   ]
  },
  {
   "cell_type": "markdown",
   "id": "3b9c4443-a884-44c2-9b27-63617e0283c8",
   "metadata": {},
   "source": [
    "# Interpretability\n",
    "\n",
    "All of these test statistics are great, but sometimes, the nature of deep learning models leave us a little wanting in terms of the 'how/why' of things. In the following section, we're going to implement and apply a technique that will allow us to see a little more closely under the hood of our model, and interpret what it's actually looking at in a way that we are able to understand. The method is called Gradient-weighted Class Activation Mapping, or Grad-CAM for short.\n",
    "\n",
    "The first thing we need to do is write a function that will transform an individual image in the same way that our train loading procedure did. We have to grayscale, resize, and normalize. Our predict image function loads up our model and data onto our memory, and then runs the prediction. We'll need that too."
   ]
  },
  {
   "cell_type": "code",
   "execution_count": 5,
   "id": "ea044612-58a2-4d3f-8389-da38d87230e9",
   "metadata": {},
   "outputs": [],
   "source": [
    "###### INTERPRETABILITY ######\n",
    "\n",
    "def prep_img(img_path):\n",
    "    transform = transforms.Compose([\n",
    "        transforms.Grayscale(num_output_channels=1),\n",
    "        transforms.Resize((224, 224)),\n",
    "        transforms.ToTensor(),\n",
    "        transforms.Normalize(mean=[0.5], std=[0.5])\n",
    "    ])\n",
    "    image = Image.open(img_path).convert('L')\n",
    "    image = transform(image).unsqueeze(0) # unsqueeze(0) for batch dim\n",
    "    return image\n",
    "\n",
    "def pred_img(model, img_tensor):\n",
    "    model.eval()\n",
    "    device = torch.device(\"cuda\" if torch.cuda.is_available() else \n",
    "                         \"mps\" if torch.backends.mps.is_available() else\n",
    "                         \"cpu\")\n",
    "    model.to(device)\n",
    "    img_tensor = img_tensor.to(device)\n",
    "    return model(img_tensor)"
   ]
  },
  {
   "cell_type": "markdown",
   "id": "6503521a-64a5-4e6d-b9f7-7531a62f6561",
   "metadata": {},
   "source": [
    "Below is our implementation of Grad-CAM. Grad-CAM finds the gradient of the most dominant logit with respect to the *latest* activation map of the model. In other words, it relies on the fact that the last convolutional layer is going to contain some information (in the form of encoded features) that eventually convinced the model to make the choice it did. Our job is to capture those encoded features, and transform them into a gradient that we can look at.\n",
    "\n",
    "To do this, we're making use of a great implementation found [here](https://towardsdatascience.com/grad-cam-in-pytorch-use-of-forward-and-backward-hooks-7eba5e38d569/). The author (Vinícius Almeida) utilizes a neat pytorch feature called hooks - functions that allow us to process information going through the model during the forward and backward pass. We're going to attach these hooks to the last convolutional layer in our model (if a refresher is needed on the architecture, we printed out the entire structure above). After that, we'll pool the resulting gradient, average the channels, and then overlay it on our original image. The result will show us where our model is giving the most attention."
   ]
  },
  {
   "cell_type": "code",
   "execution_count": 6,
   "id": "db1c66b5-3716-49cd-bda9-26cda43c4c54",
   "metadata": {},
   "outputs": [],
   "source": [
    "### grad-cam pipeline ###\n",
    "def run_grad_cam(model, image_path):\n",
    "    gradients = None\n",
    "    activations = None\n",
    "    \n",
    "    def backward_hook(module, grad_input, grad_output):\n",
    "        nonlocal gradients\n",
    "        gradients = grad_output\n",
    "        print('bhook')\n",
    "    \n",
    "    def forward_hook(module, args, output):\n",
    "        nonlocal activations\n",
    "        activations = output\n",
    "        print('fhook')\n",
    "    \n",
    "    # target_layer = model.features[8][0] (?)\n",
    "    backward_hook = model.features[8][0].register_full_backward_hook(backward_hook, prepend=False)\n",
    "    forward_hook = model.features[8][0].register_forward_hook(forward_hook, prepend=False)\n",
    "\n",
    "    # preprocess image\n",
    "    image = prep_img(image_path)\n",
    "\n",
    "    output = pred_img(model, image)\n",
    "    print(f'prediction: {output.item()}')\n",
    "    output.backward()\n",
    "\n",
    "    # pool the gradients across the channels\n",
    "    pooled_gradients = torch.mean(gradients[0], dim=[0,2,3])\n",
    "    \n",
    "    for i in range(activations.size()[1]):\n",
    "        activations[:, i, :, :] *= pooled_gradients[i]\n",
    "    \n",
    "    heatmap = torch.mean(activations, dim=1).squeeze() # average channels\n",
    "    heatmap = F.relu(heatmap)\n",
    "    heatmap /= torch.max(heatmap) # normalize\n",
    "    # uncomment to show raw heatmap\n",
    "    #plt.matshow(heatmap.detach())\n",
    "\n",
    "    # remove hooks\n",
    "    backward_hook.remove()\n",
    "    forward_hook.remove()\n",
    "    \n",
    "    # setup\n",
    "    fig, ax = plt.subplots()\n",
    "    ax.axis('off')\n",
    "    \n",
    "    # original image\n",
    "    ax.imshow(to_pil_image(image.squeeze(1), mode='L'), cmap='gray')\n",
    "    \n",
    "    # heatmap\n",
    "    overlay = to_pil_image(heatmap.detach(), mode='F').resize((224,224), resample=PIL.Image.BICUBIC)\n",
    "    \n",
    "    cmap = colormaps['jet']\n",
    "    overlay = (255 * cmap(np.asarray(overlay) ** 2)[:, :, :3]).astype(np.uint8)\n",
    "    \n",
    "    # plot heatmap on same axis\n",
    "    ax.imshow(overlay, alpha=0.35, interpolation='nearest', extent=[0, 224, 224, 0])\n",
    "    \n",
    "    plt.show()"
   ]
  },
  {
   "cell_type": "code",
   "execution_count": 20,
   "id": "b9536a89-5646-4824-87ba-e0fc0ae69cf1",
   "metadata": {},
   "outputs": [
    {
     "name": "stdout",
     "output_type": "stream",
     "text": [
      "fhook\n",
      "prediction: 18.86626434326172\n",
      "bhook\n"
     ]
    },
    {
     "data": {
      "image/png": "[encoded data removed]",
      "text/plain": [
       "<Figure size 640x480 with 1 Axes>"
      ]
     },
     "metadata": {},
     "output_type": "display_data"
    }
   ],
   "source": [
    "# example usage\n",
    "image_path = '/Users/adrianlayer/BGGN240/Final Project/alzheimers_dataset/VeryMildDemented/VeryMildDemented/OAS1_0217_MR1_3.nii_slice_41.png'\n",
    "run_grad_cam(model, image_path)"
   ]
  },
  {
   "cell_type": "markdown",
   "id": "7022d196-d954-4377-a38c-116ebbc53223",
   "metadata": {},
   "source": [
    "Above, the red areas indicate the areas of highest focus for the model, while blue indicates lowest."
   ]
  },
  {
   "cell_type": "code",
   "execution_count": 11,
   "id": "4ce55a23-25b4-47d3-877a-4a76a6e5c014",
   "metadata": {},
   "outputs": [
    {
     "data": {
      "text/plain": [
       "<All keys matched successfully>"
      ]
     },
     "execution_count": 11,
     "metadata": {},
     "output_type": "execute_result"
    }
   ],
   "source": [
    "model = setup_model()\n",
    "model.load_state_dict(torch.load('run1_effnetb0_alz_saved_states/effnetb0_alz_ep11.pth', weights_only=True))"
   ]
  },
  {
   "cell_type": "code",
   "execution_count": 19,
   "id": "2cd2eb89-317d-43c9-a341-056bfbd23dbd",
   "metadata": {},
   "outputs": [
    {
     "name": "stdout",
     "output_type": "stream",
     "text": [
      "OAS1_0094_MR1_1.nii_slice_165.png\n",
      "OAS1_0094_MR1_1.nii_slice_171.png\n",
      "OAS1_0374_MR1_4.nii_slice_129.png\n",
      "OAS1_0094_MR1_4.nii_slice_166.png\n",
      "OAS1_0094_MR1_4.nii_slice_172.png\n",
      "OAS1_0217_MR1_3.nii_slice_40.png\n",
      "OAS1_0217_MR1_3.nii_slice_54.png\n",
      "OAS1_0217_MR1_3.nii_slice_55.png\n",
      "OAS1_0217_MR1_3.nii_slice_41.png\n",
      "OAS1_0094_MR1_4.nii_slice_173.png\n",
      "OAS1_0374_MR1_4.nii_slice_128.png\n",
      "OAS1_0094_MR1_1.nii_slice_170.png\n",
      "OAS1_0217_MR1_4.nii_slice_59.png\n",
      "OAS1_0217_MR1_3.nii_slice_57.png\n",
      "OAS1_0217_MR1_3.nii_slice_43.png\n",
      "OAS1_0217_MR1_3.nii_slice_249.png\n",
      "OAS1_0217_MR1_3.nii_slice_248.png\n",
      "OAS1_0217_MR1_3.nii_slice_42.png\n",
      "OAS1_0217_MR1_3.nii_slice_56.png\n",
      "OAS1_0374_MR1_1.nii_slice_128.png\n",
      "OAS1_0217_MR1_4.nii_slice_58.png\n",
      "OAS1_0094_MR1_1.nii_slice_167.png\n",
      "OAS1_0217_MR1_4.nii_slice_64.png\n",
      "OAS1_0217_MR1_4.nii_slice_48.png\n",
      "OAS1_0217_MR1_4.nii_slice_60.png\n",
      "OAS1_0217_MR1_3.nii_slice_52.png\n",
      "OAS1_0217_MR1_3.nii_slice_46.png\n",
      "OAS1_0217_MR1_3.nii_slice_47.png\n",
      "OAS1_0217_MR1_3.nii_slice_53.png\n",
      "OAS1_0217_MR1_4.nii_slice_61.png\n",
      "OAS1_0217_MR1_4.nii_slice_49.png\n",
      "OAS1_0217_MR1_4.nii_slice_63.png\n",
      "OAS1_0217_MR1_2.nii_slice_249.png\n",
      "OAS1_0217_MR1_3.nii_slice_45.png\n",
      "OAS1_0217_MR1_3.nii_slice_51.png\n",
      "OAS1_0217_MR1_3.nii_slice_50.png\n",
      "OAS1_0217_MR1_3.nii_slice_44.png\n",
      "OAS1_0217_MR1_2.nii_slice_248.png\n",
      "OAS1_0217_MR1_4.nii_slice_62.png\n",
      "OAS1_0217_MR1_4.nii_slice_11.png\n",
      "OAS1_0217_MR1_4.nii_slice_39.png\n",
      "OAS1_0217_MR1_3.nii_slice_4.png\n",
      "OAS1_0217_MR1_3.nii_slice_23.png\n",
      "OAS1_0217_MR1_2.nii_slice_207.png\n",
      "OAS1_0217_MR1_3.nii_slice_201.png\n",
      "OAS1_0217_MR1_3.nii_slice_215.png\n",
      "OAS1_0217_MR1_3.nii_slice_37.png\n",
      "OAS1_0217_MR1_2.nii_slice_213.png\n",
      "OAS1_0217_MR1_3.nii_slice_229.png\n"
     ]
    },
    {
     "ename": "KeyboardInterrupt",
     "evalue": "",
     "output_type": "error",
     "traceback": [
      "\u001b[31m---------------------------------------------------------------------------\u001b[39m",
      "\u001b[31mKeyboardInterrupt\u001b[39m                         Traceback (most recent call last)",
      "\u001b[36mCell\u001b[39m\u001b[36m \u001b[39m\u001b[32mIn[19]\u001b[39m\u001b[32m, line 6\u001b[39m\n\u001b[32m      4\u001b[39m img_path = os.path.join(vmd_fpath, f)\n\u001b[32m      5\u001b[39m image = prep_img(img_path)\n\u001b[32m----> \u001b[39m\u001b[32m6\u001b[39m pred = \u001b[43mpred_img\u001b[49m\u001b[43m(\u001b[49m\u001b[43mmodel\u001b[49m\u001b[43m,\u001b[49m\u001b[43m \u001b[49m\u001b[43mimage\u001b[49m\u001b[43m)\u001b[49m.item()\n\u001b[32m      7\u001b[39m \u001b[38;5;28;01mif\u001b[39;00m pred < \u001b[32m40\u001b[39m:\n\u001b[32m      8\u001b[39m     \u001b[38;5;28mprint\u001b[39m(f)\n",
      "\u001b[36mCell\u001b[39m\u001b[36m \u001b[39m\u001b[32mIn[11]\u001b[39m\u001b[32m, line 21\u001b[39m, in \u001b[36mpred_img\u001b[39m\u001b[34m(model, img_tensor)\u001b[39m\n\u001b[32m     19\u001b[39m model.to(device)\n\u001b[32m     20\u001b[39m img_tensor = img_tensor.to(device)\n\u001b[32m---> \u001b[39m\u001b[32m21\u001b[39m \u001b[38;5;28;01mreturn\u001b[39;00m \u001b[43mmodel\u001b[49m\u001b[43m(\u001b[49m\u001b[43mimg_tensor\u001b[49m\u001b[43m)\u001b[49m\n",
      "\u001b[36mFile \u001b[39m\u001b[32m~/fastai/lib/python3.12/site-packages/torch/nn/modules/module.py:1511\u001b[39m, in \u001b[36mModule._wrapped_call_impl\u001b[39m\u001b[34m(self, *args, **kwargs)\u001b[39m\n\u001b[32m   1509\u001b[39m     \u001b[38;5;28;01mreturn\u001b[39;00m \u001b[38;5;28mself\u001b[39m._compiled_call_impl(*args, **kwargs)  \u001b[38;5;66;03m# type: ignore[misc]\u001b[39;00m\n\u001b[32m   1510\u001b[39m \u001b[38;5;28;01melse\u001b[39;00m:\n\u001b[32m-> \u001b[39m\u001b[32m1511\u001b[39m     \u001b[38;5;28;01mreturn\u001b[39;00m \u001b[38;5;28;43mself\u001b[39;49m\u001b[43m.\u001b[49m\u001b[43m_call_impl\u001b[49m\u001b[43m(\u001b[49m\u001b[43m*\u001b[49m\u001b[43margs\u001b[49m\u001b[43m,\u001b[49m\u001b[43m \u001b[49m\u001b[43m*\u001b[49m\u001b[43m*\u001b[49m\u001b[43mkwargs\u001b[49m\u001b[43m)\u001b[49m\n",
      "\u001b[36mFile \u001b[39m\u001b[32m~/fastai/lib/python3.12/site-packages/torch/nn/modules/module.py:1520\u001b[39m, in \u001b[36mModule._call_impl\u001b[39m\u001b[34m(self, *args, **kwargs)\u001b[39m\n\u001b[32m   1515\u001b[39m \u001b[38;5;66;03m# If we don't have any hooks, we want to skip the rest of the logic in\u001b[39;00m\n\u001b[32m   1516\u001b[39m \u001b[38;5;66;03m# this function, and just call forward.\u001b[39;00m\n\u001b[32m   1517\u001b[39m \u001b[38;5;28;01mif\u001b[39;00m \u001b[38;5;129;01mnot\u001b[39;00m (\u001b[38;5;28mself\u001b[39m._backward_hooks \u001b[38;5;129;01mor\u001b[39;00m \u001b[38;5;28mself\u001b[39m._backward_pre_hooks \u001b[38;5;129;01mor\u001b[39;00m \u001b[38;5;28mself\u001b[39m._forward_hooks \u001b[38;5;129;01mor\u001b[39;00m \u001b[38;5;28mself\u001b[39m._forward_pre_hooks\n\u001b[32m   1518\u001b[39m         \u001b[38;5;129;01mor\u001b[39;00m _global_backward_pre_hooks \u001b[38;5;129;01mor\u001b[39;00m _global_backward_hooks\n\u001b[32m   1519\u001b[39m         \u001b[38;5;129;01mor\u001b[39;00m _global_forward_hooks \u001b[38;5;129;01mor\u001b[39;00m _global_forward_pre_hooks):\n\u001b[32m-> \u001b[39m\u001b[32m1520\u001b[39m     \u001b[38;5;28;01mreturn\u001b[39;00m \u001b[43mforward_call\u001b[49m\u001b[43m(\u001b[49m\u001b[43m*\u001b[49m\u001b[43margs\u001b[49m\u001b[43m,\u001b[49m\u001b[43m \u001b[49m\u001b[43m*\u001b[49m\u001b[43m*\u001b[49m\u001b[43mkwargs\u001b[49m\u001b[43m)\u001b[49m\n\u001b[32m   1522\u001b[39m \u001b[38;5;28;01mtry\u001b[39;00m:\n\u001b[32m   1523\u001b[39m     result = \u001b[38;5;28;01mNone\u001b[39;00m\n",
      "\u001b[36mFile \u001b[39m\u001b[32m~/fastai/lib/python3.12/site-packages/torchvision/models/efficientnet.py:343\u001b[39m, in \u001b[36mEfficientNet.forward\u001b[39m\u001b[34m(self, x)\u001b[39m\n\u001b[32m    342\u001b[39m \u001b[38;5;28;01mdef\u001b[39;00m\u001b[38;5;250m \u001b[39m\u001b[34mforward\u001b[39m(\u001b[38;5;28mself\u001b[39m, x: Tensor) -> Tensor:\n\u001b[32m--> \u001b[39m\u001b[32m343\u001b[39m     \u001b[38;5;28;01mreturn\u001b[39;00m \u001b[38;5;28;43mself\u001b[39;49m\u001b[43m.\u001b[49m\u001b[43m_forward_impl\u001b[49m\u001b[43m(\u001b[49m\u001b[43mx\u001b[49m\u001b[43m)\u001b[49m\n",
      "\u001b[36mFile \u001b[39m\u001b[32m~/fastai/lib/python3.12/site-packages/torchvision/models/efficientnet.py:333\u001b[39m, in \u001b[36mEfficientNet._forward_impl\u001b[39m\u001b[34m(self, x)\u001b[39m\n\u001b[32m    332\u001b[39m \u001b[38;5;28;01mdef\u001b[39;00m\u001b[38;5;250m \u001b[39m\u001b[34m_forward_impl\u001b[39m(\u001b[38;5;28mself\u001b[39m, x: Tensor) -> Tensor:\n\u001b[32m--> \u001b[39m\u001b[32m333\u001b[39m     x = \u001b[38;5;28;43mself\u001b[39;49m\u001b[43m.\u001b[49m\u001b[43mfeatures\u001b[49m\u001b[43m(\u001b[49m\u001b[43mx\u001b[49m\u001b[43m)\u001b[49m\n\u001b[32m    335\u001b[39m     x = \u001b[38;5;28mself\u001b[39m.avgpool(x)\n\u001b[32m    336\u001b[39m     x = torch.flatten(x, \u001b[32m1\u001b[39m)\n",
      "\u001b[36mFile \u001b[39m\u001b[32m~/fastai/lib/python3.12/site-packages/torch/nn/modules/module.py:1511\u001b[39m, in \u001b[36mModule._wrapped_call_impl\u001b[39m\u001b[34m(self, *args, **kwargs)\u001b[39m\n\u001b[32m   1509\u001b[39m     \u001b[38;5;28;01mreturn\u001b[39;00m \u001b[38;5;28mself\u001b[39m._compiled_call_impl(*args, **kwargs)  \u001b[38;5;66;03m# type: ignore[misc]\u001b[39;00m\n\u001b[32m   1510\u001b[39m \u001b[38;5;28;01melse\u001b[39;00m:\n\u001b[32m-> \u001b[39m\u001b[32m1511\u001b[39m     \u001b[38;5;28;01mreturn\u001b[39;00m \u001b[38;5;28;43mself\u001b[39;49m\u001b[43m.\u001b[49m\u001b[43m_call_impl\u001b[49m\u001b[43m(\u001b[49m\u001b[43m*\u001b[49m\u001b[43margs\u001b[49m\u001b[43m,\u001b[49m\u001b[43m \u001b[49m\u001b[43m*\u001b[49m\u001b[43m*\u001b[49m\u001b[43mkwargs\u001b[49m\u001b[43m)\u001b[49m\n",
      "\u001b[36mFile \u001b[39m\u001b[32m~/fastai/lib/python3.12/site-packages/torch/nn/modules/module.py:1520\u001b[39m, in \u001b[36mModule._call_impl\u001b[39m\u001b[34m(self, *args, **kwargs)\u001b[39m\n\u001b[32m   1515\u001b[39m \u001b[38;5;66;03m# If we don't have any hooks, we want to skip the rest of the logic in\u001b[39;00m\n\u001b[32m   1516\u001b[39m \u001b[38;5;66;03m# this function, and just call forward.\u001b[39;00m\n\u001b[32m   1517\u001b[39m \u001b[38;5;28;01mif\u001b[39;00m \u001b[38;5;129;01mnot\u001b[39;00m (\u001b[38;5;28mself\u001b[39m._backward_hooks \u001b[38;5;129;01mor\u001b[39;00m \u001b[38;5;28mself\u001b[39m._backward_pre_hooks \u001b[38;5;129;01mor\u001b[39;00m \u001b[38;5;28mself\u001b[39m._forward_hooks \u001b[38;5;129;01mor\u001b[39;00m \u001b[38;5;28mself\u001b[39m._forward_pre_hooks\n\u001b[32m   1518\u001b[39m         \u001b[38;5;129;01mor\u001b[39;00m _global_backward_pre_hooks \u001b[38;5;129;01mor\u001b[39;00m _global_backward_hooks\n\u001b[32m   1519\u001b[39m         \u001b[38;5;129;01mor\u001b[39;00m _global_forward_hooks \u001b[38;5;129;01mor\u001b[39;00m _global_forward_pre_hooks):\n\u001b[32m-> \u001b[39m\u001b[32m1520\u001b[39m     \u001b[38;5;28;01mreturn\u001b[39;00m \u001b[43mforward_call\u001b[49m\u001b[43m(\u001b[49m\u001b[43m*\u001b[49m\u001b[43margs\u001b[49m\u001b[43m,\u001b[49m\u001b[43m \u001b[49m\u001b[43m*\u001b[49m\u001b[43m*\u001b[49m\u001b[43mkwargs\u001b[49m\u001b[43m)\u001b[49m\n\u001b[32m   1522\u001b[39m \u001b[38;5;28;01mtry\u001b[39;00m:\n\u001b[32m   1523\u001b[39m     result = \u001b[38;5;28;01mNone\u001b[39;00m\n",
      "\u001b[36mFile \u001b[39m\u001b[32m~/fastai/lib/python3.12/site-packages/torch/nn/modules/container.py:217\u001b[39m, in \u001b[36mSequential.forward\u001b[39m\u001b[34m(self, input)\u001b[39m\n\u001b[32m    215\u001b[39m \u001b[38;5;28;01mdef\u001b[39;00m\u001b[38;5;250m \u001b[39m\u001b[34mforward\u001b[39m(\u001b[38;5;28mself\u001b[39m, \u001b[38;5;28minput\u001b[39m):\n\u001b[32m    216\u001b[39m     \u001b[38;5;28;01mfor\u001b[39;00m module \u001b[38;5;129;01min\u001b[39;00m \u001b[38;5;28mself\u001b[39m:\n\u001b[32m--> \u001b[39m\u001b[32m217\u001b[39m         \u001b[38;5;28minput\u001b[39m = \u001b[43mmodule\u001b[49m\u001b[43m(\u001b[49m\u001b[38;5;28;43minput\u001b[39;49m\u001b[43m)\u001b[49m\n\u001b[32m    218\u001b[39m     \u001b[38;5;28;01mreturn\u001b[39;00m \u001b[38;5;28minput\u001b[39m\n",
      "\u001b[36mFile \u001b[39m\u001b[32m~/fastai/lib/python3.12/site-packages/torch/nn/modules/module.py:1511\u001b[39m, in \u001b[36mModule._wrapped_call_impl\u001b[39m\u001b[34m(self, *args, **kwargs)\u001b[39m\n\u001b[32m   1509\u001b[39m     \u001b[38;5;28;01mreturn\u001b[39;00m \u001b[38;5;28mself\u001b[39m._compiled_call_impl(*args, **kwargs)  \u001b[38;5;66;03m# type: ignore[misc]\u001b[39;00m\n\u001b[32m   1510\u001b[39m \u001b[38;5;28;01melse\u001b[39;00m:\n\u001b[32m-> \u001b[39m\u001b[32m1511\u001b[39m     \u001b[38;5;28;01mreturn\u001b[39;00m \u001b[38;5;28;43mself\u001b[39;49m\u001b[43m.\u001b[49m\u001b[43m_call_impl\u001b[49m\u001b[43m(\u001b[49m\u001b[43m*\u001b[49m\u001b[43margs\u001b[49m\u001b[43m,\u001b[49m\u001b[43m \u001b[49m\u001b[43m*\u001b[49m\u001b[43m*\u001b[49m\u001b[43mkwargs\u001b[49m\u001b[43m)\u001b[49m\n",
      "\u001b[36mFile \u001b[39m\u001b[32m~/fastai/lib/python3.12/site-packages/torch/nn/modules/module.py:1520\u001b[39m, in \u001b[36mModule._call_impl\u001b[39m\u001b[34m(self, *args, **kwargs)\u001b[39m\n\u001b[32m   1515\u001b[39m \u001b[38;5;66;03m# If we don't have any hooks, we want to skip the rest of the logic in\u001b[39;00m\n\u001b[32m   1516\u001b[39m \u001b[38;5;66;03m# this function, and just call forward.\u001b[39;00m\n\u001b[32m   1517\u001b[39m \u001b[38;5;28;01mif\u001b[39;00m \u001b[38;5;129;01mnot\u001b[39;00m (\u001b[38;5;28mself\u001b[39m._backward_hooks \u001b[38;5;129;01mor\u001b[39;00m \u001b[38;5;28mself\u001b[39m._backward_pre_hooks \u001b[38;5;129;01mor\u001b[39;00m \u001b[38;5;28mself\u001b[39m._forward_hooks \u001b[38;5;129;01mor\u001b[39;00m \u001b[38;5;28mself\u001b[39m._forward_pre_hooks\n\u001b[32m   1518\u001b[39m         \u001b[38;5;129;01mor\u001b[39;00m _global_backward_pre_hooks \u001b[38;5;129;01mor\u001b[39;00m _global_backward_hooks\n\u001b[32m   1519\u001b[39m         \u001b[38;5;129;01mor\u001b[39;00m _global_forward_hooks \u001b[38;5;129;01mor\u001b[39;00m _global_forward_pre_hooks):\n\u001b[32m-> \u001b[39m\u001b[32m1520\u001b[39m     \u001b[38;5;28;01mreturn\u001b[39;00m \u001b[43mforward_call\u001b[49m\u001b[43m(\u001b[49m\u001b[43m*\u001b[49m\u001b[43margs\u001b[49m\u001b[43m,\u001b[49m\u001b[43m \u001b[49m\u001b[43m*\u001b[49m\u001b[43m*\u001b[49m\u001b[43mkwargs\u001b[49m\u001b[43m)\u001b[49m\n\u001b[32m   1522\u001b[39m \u001b[38;5;28;01mtry\u001b[39;00m:\n\u001b[32m   1523\u001b[39m     result = \u001b[38;5;28;01mNone\u001b[39;00m\n",
      "\u001b[36mFile \u001b[39m\u001b[32m~/fastai/lib/python3.12/site-packages/torch/nn/modules/container.py:217\u001b[39m, in \u001b[36mSequential.forward\u001b[39m\u001b[34m(self, input)\u001b[39m\n\u001b[32m    215\u001b[39m \u001b[38;5;28;01mdef\u001b[39;00m\u001b[38;5;250m \u001b[39m\u001b[34mforward\u001b[39m(\u001b[38;5;28mself\u001b[39m, \u001b[38;5;28minput\u001b[39m):\n\u001b[32m    216\u001b[39m     \u001b[38;5;28;01mfor\u001b[39;00m module \u001b[38;5;129;01min\u001b[39;00m \u001b[38;5;28mself\u001b[39m:\n\u001b[32m--> \u001b[39m\u001b[32m217\u001b[39m         \u001b[38;5;28minput\u001b[39m = \u001b[43mmodule\u001b[49m\u001b[43m(\u001b[49m\u001b[38;5;28;43minput\u001b[39;49m\u001b[43m)\u001b[49m\n\u001b[32m    218\u001b[39m     \u001b[38;5;28;01mreturn\u001b[39;00m \u001b[38;5;28minput\u001b[39m\n",
      "\u001b[36mFile \u001b[39m\u001b[32m~/fastai/lib/python3.12/site-packages/torch/nn/modules/module.py:1511\u001b[39m, in \u001b[36mModule._wrapped_call_impl\u001b[39m\u001b[34m(self, *args, **kwargs)\u001b[39m\n\u001b[32m   1509\u001b[39m     \u001b[38;5;28;01mreturn\u001b[39;00m \u001b[38;5;28mself\u001b[39m._compiled_call_impl(*args, **kwargs)  \u001b[38;5;66;03m# type: ignore[misc]\u001b[39;00m\n\u001b[32m   1510\u001b[39m \u001b[38;5;28;01melse\u001b[39;00m:\n\u001b[32m-> \u001b[39m\u001b[32m1511\u001b[39m     \u001b[38;5;28;01mreturn\u001b[39;00m \u001b[38;5;28;43mself\u001b[39;49m\u001b[43m.\u001b[49m\u001b[43m_call_impl\u001b[49m\u001b[43m(\u001b[49m\u001b[43m*\u001b[49m\u001b[43margs\u001b[49m\u001b[43m,\u001b[49m\u001b[43m \u001b[49m\u001b[43m*\u001b[49m\u001b[43m*\u001b[49m\u001b[43mkwargs\u001b[49m\u001b[43m)\u001b[49m\n",
      "\u001b[36mFile \u001b[39m\u001b[32m~/fastai/lib/python3.12/site-packages/torch/nn/modules/module.py:1520\u001b[39m, in \u001b[36mModule._call_impl\u001b[39m\u001b[34m(self, *args, **kwargs)\u001b[39m\n\u001b[32m   1515\u001b[39m \u001b[38;5;66;03m# If we don't have any hooks, we want to skip the rest of the logic in\u001b[39;00m\n\u001b[32m   1516\u001b[39m \u001b[38;5;66;03m# this function, and just call forward.\u001b[39;00m\n\u001b[32m   1517\u001b[39m \u001b[38;5;28;01mif\u001b[39;00m \u001b[38;5;129;01mnot\u001b[39;00m (\u001b[38;5;28mself\u001b[39m._backward_hooks \u001b[38;5;129;01mor\u001b[39;00m \u001b[38;5;28mself\u001b[39m._backward_pre_hooks \u001b[38;5;129;01mor\u001b[39;00m \u001b[38;5;28mself\u001b[39m._forward_hooks \u001b[38;5;129;01mor\u001b[39;00m \u001b[38;5;28mself\u001b[39m._forward_pre_hooks\n\u001b[32m   1518\u001b[39m         \u001b[38;5;129;01mor\u001b[39;00m _global_backward_pre_hooks \u001b[38;5;129;01mor\u001b[39;00m _global_backward_hooks\n\u001b[32m   1519\u001b[39m         \u001b[38;5;129;01mor\u001b[39;00m _global_forward_hooks \u001b[38;5;129;01mor\u001b[39;00m _global_forward_pre_hooks):\n\u001b[32m-> \u001b[39m\u001b[32m1520\u001b[39m     \u001b[38;5;28;01mreturn\u001b[39;00m \u001b[43mforward_call\u001b[49m\u001b[43m(\u001b[49m\u001b[43m*\u001b[49m\u001b[43margs\u001b[49m\u001b[43m,\u001b[49m\u001b[43m \u001b[49m\u001b[43m*\u001b[49m\u001b[43m*\u001b[49m\u001b[43mkwargs\u001b[49m\u001b[43m)\u001b[49m\n\u001b[32m   1522\u001b[39m \u001b[38;5;28;01mtry\u001b[39;00m:\n\u001b[32m   1523\u001b[39m     result = \u001b[38;5;28;01mNone\u001b[39;00m\n",
      "\u001b[36mFile \u001b[39m\u001b[32m~/fastai/lib/python3.12/site-packages/torchvision/models/efficientnet.py:164\u001b[39m, in \u001b[36mMBConv.forward\u001b[39m\u001b[34m(self, input)\u001b[39m\n\u001b[32m    163\u001b[39m \u001b[38;5;28;01mdef\u001b[39;00m\u001b[38;5;250m \u001b[39m\u001b[34mforward\u001b[39m(\u001b[38;5;28mself\u001b[39m, \u001b[38;5;28minput\u001b[39m: Tensor) -> Tensor:\n\u001b[32m--> \u001b[39m\u001b[32m164\u001b[39m     result = \u001b[38;5;28;43mself\u001b[39;49m\u001b[43m.\u001b[49m\u001b[43mblock\u001b[49m\u001b[43m(\u001b[49m\u001b[38;5;28;43minput\u001b[39;49m\u001b[43m)\u001b[49m\n\u001b[32m    165\u001b[39m     \u001b[38;5;28;01mif\u001b[39;00m \u001b[38;5;28mself\u001b[39m.use_res_connect:\n\u001b[32m    166\u001b[39m         result = \u001b[38;5;28mself\u001b[39m.stochastic_depth(result)\n",
      "\u001b[36mFile \u001b[39m\u001b[32m~/fastai/lib/python3.12/site-packages/torch/nn/modules/module.py:1511\u001b[39m, in \u001b[36mModule._wrapped_call_impl\u001b[39m\u001b[34m(self, *args, **kwargs)\u001b[39m\n\u001b[32m   1509\u001b[39m     \u001b[38;5;28;01mreturn\u001b[39;00m \u001b[38;5;28mself\u001b[39m._compiled_call_impl(*args, **kwargs)  \u001b[38;5;66;03m# type: ignore[misc]\u001b[39;00m\n\u001b[32m   1510\u001b[39m \u001b[38;5;28;01melse\u001b[39;00m:\n\u001b[32m-> \u001b[39m\u001b[32m1511\u001b[39m     \u001b[38;5;28;01mreturn\u001b[39;00m \u001b[38;5;28;43mself\u001b[39;49m\u001b[43m.\u001b[49m\u001b[43m_call_impl\u001b[49m\u001b[43m(\u001b[49m\u001b[43m*\u001b[49m\u001b[43margs\u001b[49m\u001b[43m,\u001b[49m\u001b[43m \u001b[49m\u001b[43m*\u001b[49m\u001b[43m*\u001b[49m\u001b[43mkwargs\u001b[49m\u001b[43m)\u001b[49m\n",
      "\u001b[36mFile \u001b[39m\u001b[32m~/fastai/lib/python3.12/site-packages/torch/nn/modules/module.py:1520\u001b[39m, in \u001b[36mModule._call_impl\u001b[39m\u001b[34m(self, *args, **kwargs)\u001b[39m\n\u001b[32m   1515\u001b[39m \u001b[38;5;66;03m# If we don't have any hooks, we want to skip the rest of the logic in\u001b[39;00m\n\u001b[32m   1516\u001b[39m \u001b[38;5;66;03m# this function, and just call forward.\u001b[39;00m\n\u001b[32m   1517\u001b[39m \u001b[38;5;28;01mif\u001b[39;00m \u001b[38;5;129;01mnot\u001b[39;00m (\u001b[38;5;28mself\u001b[39m._backward_hooks \u001b[38;5;129;01mor\u001b[39;00m \u001b[38;5;28mself\u001b[39m._backward_pre_hooks \u001b[38;5;129;01mor\u001b[39;00m \u001b[38;5;28mself\u001b[39m._forward_hooks \u001b[38;5;129;01mor\u001b[39;00m \u001b[38;5;28mself\u001b[39m._forward_pre_hooks\n\u001b[32m   1518\u001b[39m         \u001b[38;5;129;01mor\u001b[39;00m _global_backward_pre_hooks \u001b[38;5;129;01mor\u001b[39;00m _global_backward_hooks\n\u001b[32m   1519\u001b[39m         \u001b[38;5;129;01mor\u001b[39;00m _global_forward_hooks \u001b[38;5;129;01mor\u001b[39;00m _global_forward_pre_hooks):\n\u001b[32m-> \u001b[39m\u001b[32m1520\u001b[39m     \u001b[38;5;28;01mreturn\u001b[39;00m \u001b[43mforward_call\u001b[49m\u001b[43m(\u001b[49m\u001b[43m*\u001b[49m\u001b[43margs\u001b[49m\u001b[43m,\u001b[49m\u001b[43m \u001b[49m\u001b[43m*\u001b[49m\u001b[43m*\u001b[49m\u001b[43mkwargs\u001b[49m\u001b[43m)\u001b[49m\n\u001b[32m   1522\u001b[39m \u001b[38;5;28;01mtry\u001b[39;00m:\n\u001b[32m   1523\u001b[39m     result = \u001b[38;5;28;01mNone\u001b[39;00m\n",
      "\u001b[36mFile \u001b[39m\u001b[32m~/fastai/lib/python3.12/site-packages/torch/nn/modules/container.py:217\u001b[39m, in \u001b[36mSequential.forward\u001b[39m\u001b[34m(self, input)\u001b[39m\n\u001b[32m    215\u001b[39m \u001b[38;5;28;01mdef\u001b[39;00m\u001b[38;5;250m \u001b[39m\u001b[34mforward\u001b[39m(\u001b[38;5;28mself\u001b[39m, \u001b[38;5;28minput\u001b[39m):\n\u001b[32m    216\u001b[39m     \u001b[38;5;28;01mfor\u001b[39;00m module \u001b[38;5;129;01min\u001b[39;00m \u001b[38;5;28mself\u001b[39m:\n\u001b[32m--> \u001b[39m\u001b[32m217\u001b[39m         \u001b[38;5;28minput\u001b[39m = \u001b[43mmodule\u001b[49m\u001b[43m(\u001b[49m\u001b[38;5;28;43minput\u001b[39;49m\u001b[43m)\u001b[49m\n\u001b[32m    218\u001b[39m     \u001b[38;5;28;01mreturn\u001b[39;00m \u001b[38;5;28minput\u001b[39m\n",
      "\u001b[36mFile \u001b[39m\u001b[32m~/fastai/lib/python3.12/site-packages/torch/nn/modules/module.py:1511\u001b[39m, in \u001b[36mModule._wrapped_call_impl\u001b[39m\u001b[34m(self, *args, **kwargs)\u001b[39m\n\u001b[32m   1509\u001b[39m     \u001b[38;5;28;01mreturn\u001b[39;00m \u001b[38;5;28mself\u001b[39m._compiled_call_impl(*args, **kwargs)  \u001b[38;5;66;03m# type: ignore[misc]\u001b[39;00m\n\u001b[32m   1510\u001b[39m \u001b[38;5;28;01melse\u001b[39;00m:\n\u001b[32m-> \u001b[39m\u001b[32m1511\u001b[39m     \u001b[38;5;28;01mreturn\u001b[39;00m \u001b[38;5;28;43mself\u001b[39;49m\u001b[43m.\u001b[49m\u001b[43m_call_impl\u001b[49m\u001b[43m(\u001b[49m\u001b[43m*\u001b[49m\u001b[43margs\u001b[49m\u001b[43m,\u001b[49m\u001b[43m \u001b[49m\u001b[43m*\u001b[49m\u001b[43m*\u001b[49m\u001b[43mkwargs\u001b[49m\u001b[43m)\u001b[49m\n",
      "\u001b[36mFile \u001b[39m\u001b[32m~/fastai/lib/python3.12/site-packages/torch/nn/modules/module.py:1520\u001b[39m, in \u001b[36mModule._call_impl\u001b[39m\u001b[34m(self, *args, **kwargs)\u001b[39m\n\u001b[32m   1515\u001b[39m \u001b[38;5;66;03m# If we don't have any hooks, we want to skip the rest of the logic in\u001b[39;00m\n\u001b[32m   1516\u001b[39m \u001b[38;5;66;03m# this function, and just call forward.\u001b[39;00m\n\u001b[32m   1517\u001b[39m \u001b[38;5;28;01mif\u001b[39;00m \u001b[38;5;129;01mnot\u001b[39;00m (\u001b[38;5;28mself\u001b[39m._backward_hooks \u001b[38;5;129;01mor\u001b[39;00m \u001b[38;5;28mself\u001b[39m._backward_pre_hooks \u001b[38;5;129;01mor\u001b[39;00m \u001b[38;5;28mself\u001b[39m._forward_hooks \u001b[38;5;129;01mor\u001b[39;00m \u001b[38;5;28mself\u001b[39m._forward_pre_hooks\n\u001b[32m   1518\u001b[39m         \u001b[38;5;129;01mor\u001b[39;00m _global_backward_pre_hooks \u001b[38;5;129;01mor\u001b[39;00m _global_backward_hooks\n\u001b[32m   1519\u001b[39m         \u001b[38;5;129;01mor\u001b[39;00m _global_forward_hooks \u001b[38;5;129;01mor\u001b[39;00m _global_forward_pre_hooks):\n\u001b[32m-> \u001b[39m\u001b[32m1520\u001b[39m     \u001b[38;5;28;01mreturn\u001b[39;00m \u001b[43mforward_call\u001b[49m\u001b[43m(\u001b[49m\u001b[43m*\u001b[49m\u001b[43margs\u001b[49m\u001b[43m,\u001b[49m\u001b[43m \u001b[49m\u001b[43m*\u001b[49m\u001b[43m*\u001b[49m\u001b[43mkwargs\u001b[49m\u001b[43m)\u001b[49m\n\u001b[32m   1522\u001b[39m \u001b[38;5;28;01mtry\u001b[39;00m:\n\u001b[32m   1523\u001b[39m     result = \u001b[38;5;28;01mNone\u001b[39;00m\n",
      "\u001b[36mFile \u001b[39m\u001b[32m~/fastai/lib/python3.12/site-packages/torch/nn/modules/container.py:217\u001b[39m, in \u001b[36mSequential.forward\u001b[39m\u001b[34m(self, input)\u001b[39m\n\u001b[32m    215\u001b[39m \u001b[38;5;28;01mdef\u001b[39;00m\u001b[38;5;250m \u001b[39m\u001b[34mforward\u001b[39m(\u001b[38;5;28mself\u001b[39m, \u001b[38;5;28minput\u001b[39m):\n\u001b[32m    216\u001b[39m     \u001b[38;5;28;01mfor\u001b[39;00m module \u001b[38;5;129;01min\u001b[39;00m \u001b[38;5;28mself\u001b[39m:\n\u001b[32m--> \u001b[39m\u001b[32m217\u001b[39m         \u001b[38;5;28minput\u001b[39m = \u001b[43mmodule\u001b[49m\u001b[43m(\u001b[49m\u001b[38;5;28;43minput\u001b[39;49m\u001b[43m)\u001b[49m\n\u001b[32m    218\u001b[39m     \u001b[38;5;28;01mreturn\u001b[39;00m \u001b[38;5;28minput\u001b[39m\n",
      "\u001b[36mFile \u001b[39m\u001b[32m~/fastai/lib/python3.12/site-packages/torch/nn/modules/module.py:1511\u001b[39m, in \u001b[36mModule._wrapped_call_impl\u001b[39m\u001b[34m(self, *args, **kwargs)\u001b[39m\n\u001b[32m   1509\u001b[39m     \u001b[38;5;28;01mreturn\u001b[39;00m \u001b[38;5;28mself\u001b[39m._compiled_call_impl(*args, **kwargs)  \u001b[38;5;66;03m# type: ignore[misc]\u001b[39;00m\n\u001b[32m   1510\u001b[39m \u001b[38;5;28;01melse\u001b[39;00m:\n\u001b[32m-> \u001b[39m\u001b[32m1511\u001b[39m     \u001b[38;5;28;01mreturn\u001b[39;00m \u001b[38;5;28;43mself\u001b[39;49m\u001b[43m.\u001b[49m\u001b[43m_call_impl\u001b[49m\u001b[43m(\u001b[49m\u001b[43m*\u001b[49m\u001b[43margs\u001b[49m\u001b[43m,\u001b[49m\u001b[43m \u001b[49m\u001b[43m*\u001b[49m\u001b[43m*\u001b[49m\u001b[43mkwargs\u001b[49m\u001b[43m)\u001b[49m\n",
      "\u001b[36mFile \u001b[39m\u001b[32m~/fastai/lib/python3.12/site-packages/torch/nn/modules/module.py:1520\u001b[39m, in \u001b[36mModule._call_impl\u001b[39m\u001b[34m(self, *args, **kwargs)\u001b[39m\n\u001b[32m   1515\u001b[39m \u001b[38;5;66;03m# If we don't have any hooks, we want to skip the rest of the logic in\u001b[39;00m\n\u001b[32m   1516\u001b[39m \u001b[38;5;66;03m# this function, and just call forward.\u001b[39;00m\n\u001b[32m   1517\u001b[39m \u001b[38;5;28;01mif\u001b[39;00m \u001b[38;5;129;01mnot\u001b[39;00m (\u001b[38;5;28mself\u001b[39m._backward_hooks \u001b[38;5;129;01mor\u001b[39;00m \u001b[38;5;28mself\u001b[39m._backward_pre_hooks \u001b[38;5;129;01mor\u001b[39;00m \u001b[38;5;28mself\u001b[39m._forward_hooks \u001b[38;5;129;01mor\u001b[39;00m \u001b[38;5;28mself\u001b[39m._forward_pre_hooks\n\u001b[32m   1518\u001b[39m         \u001b[38;5;129;01mor\u001b[39;00m _global_backward_pre_hooks \u001b[38;5;129;01mor\u001b[39;00m _global_backward_hooks\n\u001b[32m   1519\u001b[39m         \u001b[38;5;129;01mor\u001b[39;00m _global_forward_hooks \u001b[38;5;129;01mor\u001b[39;00m _global_forward_pre_hooks):\n\u001b[32m-> \u001b[39m\u001b[32m1520\u001b[39m     \u001b[38;5;28;01mreturn\u001b[39;00m \u001b[43mforward_call\u001b[49m\u001b[43m(\u001b[49m\u001b[43m*\u001b[49m\u001b[43margs\u001b[49m\u001b[43m,\u001b[49m\u001b[43m \u001b[49m\u001b[43m*\u001b[49m\u001b[43m*\u001b[49m\u001b[43mkwargs\u001b[49m\u001b[43m)\u001b[49m\n\u001b[32m   1522\u001b[39m \u001b[38;5;28;01mtry\u001b[39;00m:\n\u001b[32m   1523\u001b[39m     result = \u001b[38;5;28;01mNone\u001b[39;00m\n",
      "\u001b[36mFile \u001b[39m\u001b[32m~/fastai/lib/python3.12/site-packages/torch/nn/modules/batchnorm.py:175\u001b[39m, in \u001b[36m_BatchNorm.forward\u001b[39m\u001b[34m(self, input)\u001b[39m\n\u001b[32m    168\u001b[39m     bn_training = (\u001b[38;5;28mself\u001b[39m.running_mean \u001b[38;5;129;01mis\u001b[39;00m \u001b[38;5;28;01mNone\u001b[39;00m) \u001b[38;5;129;01mand\u001b[39;00m (\u001b[38;5;28mself\u001b[39m.running_var \u001b[38;5;129;01mis\u001b[39;00m \u001b[38;5;28;01mNone\u001b[39;00m)\n\u001b[32m    170\u001b[39m \u001b[38;5;250m\u001b[39m\u001b[33mr\u001b[39m\u001b[33;03m\"\"\"\u001b[39;00m\n\u001b[32m    171\u001b[39m \u001b[33;03mBuffers are only updated if they are to be tracked and we are in training mode. Thus they only need to be\u001b[39;00m\n\u001b[32m    172\u001b[39m \u001b[33;03mpassed when the update should occur (i.e. in training mode when they are tracked), or when buffer stats are\u001b[39;00m\n\u001b[32m    173\u001b[39m \u001b[33;03mused for normalization (i.e. in eval mode when buffers are not None).\u001b[39;00m\n\u001b[32m    174\u001b[39m \u001b[33;03m\"\"\"\u001b[39;00m\n\u001b[32m--> \u001b[39m\u001b[32m175\u001b[39m \u001b[38;5;28;01mreturn\u001b[39;00m \u001b[43mF\u001b[49m\u001b[43m.\u001b[49m\u001b[43mbatch_norm\u001b[49m\u001b[43m(\u001b[49m\n\u001b[32m    176\u001b[39m \u001b[43m    \u001b[49m\u001b[38;5;28;43minput\u001b[39;49m\u001b[43m,\u001b[49m\n\u001b[32m    177\u001b[39m \u001b[43m    \u001b[49m\u001b[38;5;66;43;03m# If buffers are not to be tracked, ensure that they won't be updated\u001b[39;49;00m\n\u001b[32m    178\u001b[39m \u001b[43m    \u001b[49m\u001b[38;5;28;43mself\u001b[39;49m\u001b[43m.\u001b[49m\u001b[43mrunning_mean\u001b[49m\n\u001b[32m    179\u001b[39m \u001b[43m    \u001b[49m\u001b[38;5;28;43;01mif\u001b[39;49;00m\u001b[43m \u001b[49m\u001b[38;5;129;43;01mnot\u001b[39;49;00m\u001b[43m \u001b[49m\u001b[38;5;28;43mself\u001b[39;49m\u001b[43m.\u001b[49m\u001b[43mtraining\u001b[49m\u001b[43m \u001b[49m\u001b[38;5;129;43;01mor\u001b[39;49;00m\u001b[43m \u001b[49m\u001b[38;5;28;43mself\u001b[39;49m\u001b[43m.\u001b[49m\u001b[43mtrack_running_stats\u001b[49m\n\u001b[32m    180\u001b[39m \u001b[43m    \u001b[49m\u001b[38;5;28;43;01melse\u001b[39;49;00m\u001b[43m \u001b[49m\u001b[38;5;28;43;01mNone\u001b[39;49;00m\u001b[43m,\u001b[49m\n\u001b[32m    181\u001b[39m \u001b[43m    \u001b[49m\u001b[38;5;28;43mself\u001b[39;49m\u001b[43m.\u001b[49m\u001b[43mrunning_var\u001b[49m\u001b[43m \u001b[49m\u001b[38;5;28;43;01mif\u001b[39;49;00m\u001b[43m \u001b[49m\u001b[38;5;129;43;01mnot\u001b[39;49;00m\u001b[43m \u001b[49m\u001b[38;5;28;43mself\u001b[39;49m\u001b[43m.\u001b[49m\u001b[43mtraining\u001b[49m\u001b[43m \u001b[49m\u001b[38;5;129;43;01mor\u001b[39;49;00m\u001b[43m \u001b[49m\u001b[38;5;28;43mself\u001b[39;49m\u001b[43m.\u001b[49m\u001b[43mtrack_running_stats\u001b[49m\u001b[43m \u001b[49m\u001b[38;5;28;43;01melse\u001b[39;49;00m\u001b[43m \u001b[49m\u001b[38;5;28;43;01mNone\u001b[39;49;00m\u001b[43m,\u001b[49m\n\u001b[32m    182\u001b[39m \u001b[43m    \u001b[49m\u001b[38;5;28;43mself\u001b[39;49m\u001b[43m.\u001b[49m\u001b[43mweight\u001b[49m\u001b[43m,\u001b[49m\n\u001b[32m    183\u001b[39m \u001b[43m    \u001b[49m\u001b[38;5;28;43mself\u001b[39;49m\u001b[43m.\u001b[49m\u001b[43mbias\u001b[49m\u001b[43m,\u001b[49m\n\u001b[32m    184\u001b[39m \u001b[43m    \u001b[49m\u001b[43mbn_training\u001b[49m\u001b[43m,\u001b[49m\n\u001b[32m    185\u001b[39m \u001b[43m    \u001b[49m\u001b[43mexponential_average_factor\u001b[49m\u001b[43m,\u001b[49m\n\u001b[32m    186\u001b[39m \u001b[43m    \u001b[49m\u001b[38;5;28;43mself\u001b[39;49m\u001b[43m.\u001b[49m\u001b[43meps\u001b[49m\u001b[43m,\u001b[49m\n\u001b[32m    187\u001b[39m \u001b[43m\u001b[49m\u001b[43m)\u001b[49m\n",
      "\u001b[36mFile \u001b[39m\u001b[32m~/fastai/lib/python3.12/site-packages/torch/nn/functional.py:2482\u001b[39m, in \u001b[36mbatch_norm\u001b[39m\u001b[34m(input, running_mean, running_var, weight, bias, training, momentum, eps)\u001b[39m\n\u001b[32m   2479\u001b[39m \u001b[38;5;28;01mif\u001b[39;00m training:\n\u001b[32m   2480\u001b[39m     _verify_batch_size(\u001b[38;5;28minput\u001b[39m.size())\n\u001b[32m-> \u001b[39m\u001b[32m2482\u001b[39m \u001b[38;5;28;01mreturn\u001b[39;00m \u001b[43mtorch\u001b[49m\u001b[43m.\u001b[49m\u001b[43mbatch_norm\u001b[49m\u001b[43m(\u001b[49m\n\u001b[32m   2483\u001b[39m \u001b[43m    \u001b[49m\u001b[38;5;28;43minput\u001b[39;49m\u001b[43m,\u001b[49m\u001b[43m \u001b[49m\u001b[43mweight\u001b[49m\u001b[43m,\u001b[49m\u001b[43m \u001b[49m\u001b[43mbias\u001b[49m\u001b[43m,\u001b[49m\u001b[43m \u001b[49m\u001b[43mrunning_mean\u001b[49m\u001b[43m,\u001b[49m\u001b[43m \u001b[49m\u001b[43mrunning_var\u001b[49m\u001b[43m,\u001b[49m\u001b[43m \u001b[49m\u001b[43mtraining\u001b[49m\u001b[43m,\u001b[49m\u001b[43m \u001b[49m\u001b[43mmomentum\u001b[49m\u001b[43m,\u001b[49m\u001b[43m \u001b[49m\u001b[43meps\u001b[49m\u001b[43m,\u001b[49m\u001b[43m \u001b[49m\u001b[43mtorch\u001b[49m\u001b[43m.\u001b[49m\u001b[43mbackends\u001b[49m\u001b[43m.\u001b[49m\u001b[43mcudnn\u001b[49m\u001b[43m.\u001b[49m\u001b[43menabled\u001b[49m\n\u001b[32m   2484\u001b[39m \u001b[43m\u001b[49m\u001b[43m)\u001b[49m\n",
      "\u001b[31mKeyboardInterrupt\u001b[39m: "
     ]
    }
   ],
   "source": [
    "vmd_fpath = '/Users/adrianlayer/BGGN240/Final Project/alzheimers_dataset/VeryMildDemented/VeryMildDemented'\n",
    "for f in os.listdir(vmd_fpath):\n",
    "    if f.endswith('.png'):\n",
    "        img_path = os.path.join(vmd_fpath, f)\n",
    "        image = prep_img(img_path)\n",
    "        pred = pred_img(model, image).item()\n",
    "        if pred < 40:\n",
    "            print(f)"
   ]
  },
  {
   "cell_type": "code",
   "execution_count": null,
   "id": "ffbec276-de71-417a-aefa-ffc8ec70e15f",
   "metadata": {},
   "outputs": [],
   "source": []
  }
 ],
 "metadata": {
  "kernelspec": {
   "display_name": "Python (fastai)",
   "language": "python",
   "name": "fastai"
  },
  "language_info": {
   "codemirror_mode": {
    "name": "ipython",
    "version": 3
   },
   "file_extension": ".py",
   "mimetype": "text/x-python",
   "name": "python",
   "nbconvert_exporter": "python",
   "pygments_lexer": "ipython3",
   "version": "3.12.9"
  }
 },
 "nbformat": 4,
 "nbformat_minor": 5
}
