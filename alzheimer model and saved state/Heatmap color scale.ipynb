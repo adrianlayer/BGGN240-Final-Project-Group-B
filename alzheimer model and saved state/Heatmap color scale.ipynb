{
 "cells": [
  {
   "cell_type": "code",
   "execution_count": 3,
   "id": "5db1adc7-92e3-4cad-b239-107fbbcf847e",
   "metadata": {},
   "outputs": [],
   "source": [
    "import numpy as np\n",
    "import matplotlib.pyplot as plt\n",
    "import matplotlib.cm as cm\n"
   ]
  },
  {
   "cell_type": "code",
   "execution_count": 15,
   "id": "94055cd5-d4fb-41fd-b5c9-4de227a0f57c",
   "metadata": {},
   "outputs": [
    {
     "data": {
      "image/png": "[encoded data removed]",
      "text/plain": [
       "<Figure size 1000x100 with 1 Axes>"
      ]
     },
     "metadata": {},
     "output_type": "display_data"
    }
   ],
   "source": [
    "# Create a linear gradient from 0 to 1\n",
    "gradient = np.linspace(0, 1, 256).reshape(1, -1)  # 1 row, 256 columns\n",
    "\n",
    "# Plot the gradient using the jet colormap\n",
    "fig, ax = plt.subplots(figsize=(10, 1))\n",
    "ax.imshow(gradient, aspect=\"auto\", cmap=\"jet\")\n",
    "ax.set_xticks([])\n",
    "ax.set_yticks([])\n",
    "\n",
    "# Add numerical labels directly on the gradient\n",
    "for i, label in enumerate(np.linspace(0, 1, 6)):  # 6 evenly spaced labels\n",
    "    ax.text(i * 255 / 5, 0.5, f\"{label:.1f}\", color=\"black\", ha=\"center\", va=\"top\", fontsize=10, fontweight=\"bold\")\n",
    "\n",
    "ax.set_title(\"Heatmap Gradient\")\n",
    "\n",
    "plt.show()"
   ]
  },
  {
   "cell_type": "code",
   "execution_count": null,
   "id": "d291c6af-7b89-4a99-bf5a-b57c3082a918",
   "metadata": {},
   "outputs": [],
   "source": []
  }
 ],
 "metadata": {
  "kernelspec": {
   "display_name": "Python [conda env:base] *",
   "language": "python",
   "name": "conda-base-py"
  },
  "language_info": {
   "codemirror_mode": {
    "name": "ipython",
    "version": 3
   },
   "file_extension": ".py",
   "mimetype": "text/x-python",
   "name": "python",
   "nbconvert_exporter": "python",
   "pygments_lexer": "ipython3",
   "version": "3.11.7"
  }
 },
 "nbformat": 4,
 "nbformat_minor": 5
}
