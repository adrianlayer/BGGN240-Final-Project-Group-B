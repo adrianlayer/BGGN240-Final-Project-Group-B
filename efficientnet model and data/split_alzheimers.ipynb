{
 "cells": [
  {
   "cell_type": "code",
   "execution_count": 12,
   "id": "71779947-ce03-40aa-95a4-ad242b6f1d9b",
   "metadata": {},
   "outputs": [],
   "source": [
    "import os\n",
    "import random\n",
    "import shutil\n",
    "import pandas as pd"
   ]
  },
  {
   "cell_type": "code",
   "execution_count": 24,
   "id": "a9b3b7fc-8fea-4c33-94ed-32804337ef7c",
   "metadata": {},
   "outputs": [],
   "source": [
    "def split_images(root_path, output_path, splits=(0.7, 0.15, 0.15)):\n",
    "    # storing our image names\n",
    "    train = []\n",
    "    val = []\n",
    "    test = []\n",
    "\n",
    "    # get all the image names\n",
    "    images = os.listdir(root_path)\n",
    "\n",
    "    # shuffle images\n",
    "    random.shuffle(images)\n",
    "\n",
    "    # get partition bounds\n",
    "    split1 = int(splits[0] * len(images))\n",
    "    split2 = split1 + int(splits[1] * len(images))\n",
    "\n",
    "    # assign images\n",
    "    train = images[:split1]\n",
    "    val = images[split1:split2]\n",
    "    test = images[split2:]\n",
    "\n",
    "    # copy files\n",
    "    os.makedirs(output_path, exist_ok=True)\n",
    "    for split_name, split_images in zip(['train', 'val', 'test',] ,[train, val, test]):\n",
    "        split_path = os.path.join(output_path, split_name)\n",
    "        os.makedirs(split_path, exist_ok=True)\n",
    "        for f in split_images:\n",
    "            curr_img_path = os.path.join(root_path, f)\n",
    "            output_img_path = os.path.join(split_path, f)\n",
    "            shutil.copy(curr_img_path, output_img_path)\n",
    "\n",
    "    return len(train), len(val), len(test)"
   ]
  },
  {
   "cell_type": "code",
   "execution_count": 25,
   "id": "1b24591f-0f19-42db-bce2-22767f4eb05e",
   "metadata": {},
   "outputs": [
    {
     "data": {
      "text/plain": [
       "(44492, 9534, 9534)"
      ]
     },
     "execution_count": 25,
     "metadata": {},
     "output_type": "execute_result"
    }
   ],
   "source": [
    "root_path = '/Users/adrianlayer/BGGN240/Final Project/alzheimers_dataset/NonDemented'\n",
    "output_path = '/Users/adrianlayer/BGGN240/Final Project/alzheimers_dataset/split_data'\n",
    "\n",
    "split_images(root_path, output_path)"
   ]
  },
  {
   "cell_type": "code",
   "execution_count": null,
   "id": "829aaf1d-e185-4511-a0ba-1e352b9dddf0",
   "metadata": {},
   "outputs": [],
   "source": []
  }
 ],
 "metadata": {
  "kernelspec": {
   "display_name": "Python (fastai)",
   "language": "python",
   "name": "fastai"
  },
  "language_info": {
   "codemirror_mode": {
    "name": "ipython",
    "version": 3
   },
   "file_extension": ".py",
   "mimetype": "text/x-python",
   "name": "python",
   "nbconvert_exporter": "python",
   "pygments_lexer": "ipython3",
   "version": "3.12.9"
  }
 },
 "nbformat": 4,
 "nbformat_minor": 5
}
